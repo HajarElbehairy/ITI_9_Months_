{
 "cells": [
  {
   "cell_type": "markdown",
   "metadata": {},
   "source": [
    "### fractional_knapsack"
   ]
  },
  {
   "cell_type": "code",
   "execution_count": 2,
   "metadata": {},
   "outputs": [],
   "source": [
    "import numpy as np\n",
    "\n",
    "def fractional_knapsack(weights, profits, capacity):\n",
    "    if not isinstance(weights, np.ndarray) or not isinstance(profits, np.ndarray):\n",
    "        raise TypeError(\"weights and profits must be numpy arrays\")\n",
    "    \n",
    "    if weights.size != profits.size:\n",
    "        raise ValueError(\"weights and profits must have the same size\")\n",
    "        \n",
    "    if not weights.size > 0:\n",
    "        raise ValueError(\"weights and profits cannot be empty\")\n",
    "        \n",
    "    if capacity <= 0:\n",
    "        raise ValueError(\"capacity must be positive\")\n",
    "    \n",
    "    PPW = np.divide(profits, weights)\n",
    "    PPW_list = list(PPW)\n",
    "    PPW_sorted = sorted(PPW_list, reverse=True)\n",
    "    \n",
    "    max_profit = 0\n",
    "    remaining_capacity = capacity\n",
    "    print(\"Sorted profit/weight ratios:\", PPW_sorted)\n",
    "    \n",
    "    for i in range(len(PPW_sorted)):\n",
    "        index = PPW_list.index(PPW_sorted[i])\n",
    "        \n",
    "        if remaining_capacity > 0:\n",
    "            if weights[index] <= remaining_capacity:\n",
    "                remaining_capacity -= weights[index]\n",
    "                max_profit += profits[index]\n",
    "            else:\n",
    "                fraction = remaining_capacity / weights[index]\n",
    "                print(f\"Fraction taken: {fraction}\")\n",
    "                max_profit += profits[index] * fraction\n",
    "                remaining_capacity = 0\n",
    "        else:\n",
    "            break\n",
    "            \n",
    "    return max_profit"
   ]
  },
  {
   "cell_type": "code",
   "execution_count": 3,
   "metadata": {},
   "outputs": [
    {
     "name": "stdout",
     "output_type": "stream",
     "text": [
      "Sorted profit/weight ratios: [8.0, 5.0, 3.3333333333333335, 3.0, 3.0, 2.0, 1.75]\n",
      "Maximum profit: 53\n"
     ]
    }
   ],
   "source": [
    "weights = np.array([1, 3, 5, 4, 1, 3, 2])\n",
    "profits = np.array([5, 10, 15, 7, 8, 9, 4])\n",
    "capacity = 15\n",
    "\n",
    "result = fractional_knapsack(weights, profits, capacity)\n",
    "print(\"Maximum profit:\", result)"
   ]
  },
  {
   "cell_type": "markdown",
   "metadata": {},
   "source": [
    "### Job Sequence with deadline"
   ]
  },
  {
   "cell_type": "code",
   "execution_count": 4,
   "metadata": {},
   "outputs": [
    {
     "name": "stdout",
     "output_type": "stream",
     "text": [
      "[('J3', [3, 60]), ('J7', [1, 55]), ('J6', [1, 45]), ('J1', [2, 40]), ('J4', [2, 20]), ('J2', [4, 15]), ('J5', [3, 10])]\n",
      "3\n",
      "1\n",
      "2\n",
      "4\n",
      "170\n"
     ]
    }
   ],
   "source": [
    "jobs={\"J1\":[2,40],\"J2\":[4,15],\"J3\":[3,60],\"J4\":[2,20],\"J5\":[3,10],\"J6\":[1,45],\"J7\":[1,55]}\n",
    "jobs_sorted = sorted(jobs.items(), key=lambda item: item[1][1], reverse=True)\n",
    "print(jobs_sorted)\n",
    "profit=0\n",
    "max_di = max(i[0] for i in jobs.values()) \n",
    "schedule = [None] * max_di\n",
    "profit = 0\n",
    "selected_jobs = []\n",
    "list_num=list(range(1, max_di+1))\n",
    "for job in jobs_sorted:\n",
    "    job_id = job[0]\n",
    "    duration, job_profit = job[1]\n",
    "    if duration in list_num:\n",
    "        print(duration)\n",
    "        profit += job_profit \n",
    "        list_num.remove(duration)\n",
    "print(profit)\n"
   ]
  },
  {
   "cell_type": "markdown",
   "metadata": {},
   "source": [
    "### knapsack0_1"
   ]
  },
  {
   "cell_type": "code",
   "execution_count": 5,
   "metadata": {},
   "outputs": [],
   "source": [
    "from itertools import combinations\n",
    "import numpy as np\n",
    "\n",
    "def knapsack0_1(weights, profits, max_weight):\n",
    "    if not isinstance(weights, np.ndarray) or not isinstance(profits, np.ndarray):\n",
    "        raise TypeError(\"weights and profits must be numpy arrays\")\n",
    "    \n",
    "    if weights.size != profits.size:\n",
    "        raise ValueError(\"weights and profits must have the same size\")\n",
    "        \n",
    "    if weights.size == 0:\n",
    "        raise ValueError(\"weights and profits cannot be empty\")\n",
    "        \n",
    "    if max_weight <= 0:\n",
    "        raise ValueError(\"max_weight must be positive\")\n",
    "    \n",
    "    max_profit = 0\n",
    "    best_combination = None\n",
    "    best_indices = None\n",
    "\n",
    "    for r in range(1, len(weights) + 1):  \n",
    "        for subset in combinations(range(len(weights)), r):\n",
    "            current_weights = weights[list(subset)]\n",
    "            current_profits = profits[list(subset)]\n",
    "\n",
    "            if sum(current_weights) <= max_weight:  \n",
    "                current_profit = sum(current_profits)\n",
    "                if current_profit > max_profit:\n",
    "                    max_profit = current_profit\n",
    "                    best_combination = current_weights\n",
    "                    best_indices = subset\n",
    "\n",
    "    return max_profit, best_combination, best_indices"
   ]
  },
  {
   "cell_type": "code",
   "execution_count": 6,
   "metadata": {},
   "outputs": [
    {
     "data": {
      "text/plain": [
       "(7, array([2, 3]), (0, 1))"
      ]
     },
     "execution_count": 6,
     "metadata": {},
     "output_type": "execute_result"
    }
   ],
   "source": [
    "weights = np.array([2, 3, 4, 5])\n",
    "profits = np.array([3, 4, 5, 6])\n",
    "max_weight = 5\n",
    "\n",
    "result = knapsack0_1(weights, profits, max_weight)\n",
    "result"
   ]
  },
  {
   "cell_type": "markdown",
   "metadata": {},
   "source": [
    "### Traverse Graph Depth First"
   ]
  },
  {
   "cell_type": "code",
   "execution_count": 7,
   "metadata": {},
   "outputs": [],
   "source": [
    "def DFS(graph, start_point):\n",
    "    stack = [start_point]  \n",
    "    visited = set() \n",
    "    path = []  \n",
    "    while stack:\n",
    "        node = stack.pop() \n",
    "        # print(node) \n",
    "        if node not in visited:\n",
    "            visited.add(node)\n",
    "            path.append(node)\n",
    "            # print(\"path\",path)\n",
    "            print(f\"Visiting: {node}\")  \n",
    "            for neighbor in reversed(graph[node]):\n",
    "                # print(neighbor)\n",
    "                if neighbor not in visited:\n",
    "                    stack.append(neighbor)\n",
    "                    # print(\"stack\",stack)\n",
    "\n",
    "    print(\"DFS Traversal Path:\", \" -> \".join(path))"
   ]
  },
  {
   "cell_type": "code",
   "execution_count": 8,
   "metadata": {},
   "outputs": [
    {
     "name": "stdout",
     "output_type": "stream",
     "text": [
      "Visiting: A\n",
      "Visiting: B\n",
      "Visiting: D\n",
      "Visiting: E\n",
      "Visiting: C\n",
      "Visiting: F\n",
      "DFS Traversal Path: A -> B -> D -> E -> C -> F\n"
     ]
    }
   ],
   "source": [
    "graph = {\n",
    "        'A': ['B', 'C'],\n",
    "        'B': ['A', 'D', 'E'],\n",
    "        'C': ['A', 'F'],\n",
    "        'D': ['B'],\n",
    "        'E': ['B'],\n",
    "        'F': ['C']\n",
    "    }\n",
    "start_point=\"A\"\n",
    "DFS(graph,start_point)"
   ]
  },
  {
   "cell_type": "markdown",
   "metadata": {},
   "source": [
    "### Traverse Graph Breadth First"
   ]
  },
  {
   "cell_type": "code",
   "execution_count": 11,
   "metadata": {},
   "outputs": [],
   "source": [
    "def BFS(graph, start_point):\n",
    "    stack = [start_point]  \n",
    "    visited = set() \n",
    "    path = []  \n",
    "    while stack:\n",
    "        node = stack.pop(0) \n",
    "        # print(node) \n",
    "        if node not in visited:\n",
    "            visited.add(node)\n",
    "            path.append(node)\n",
    "            # print(\"path\",path)\n",
    "            print(f\"Visiting: {node}\")  \n",
    "            for neighbor in graph[node]:\n",
    "                # print(neighbor)\n",
    "                if neighbor not in visited:\n",
    "                    stack.append(neighbor)\n",
    "                    # print(\"stack\",stack)\n",
    "\n",
    "    print(\"DFS Traversal Path:\", \" -> \".join(path))"
   ]
  },
  {
   "cell_type": "code",
   "execution_count": 12,
   "metadata": {},
   "outputs": [
    {
     "name": "stdout",
     "output_type": "stream",
     "text": [
      "Visiting: A\n",
      "Visiting: B\n",
      "Visiting: C\n",
      "Visiting: D\n",
      "Visiting: E\n",
      "Visiting: F\n",
      "DFS Traversal Path: A -> B -> C -> D -> E -> F\n"
     ]
    }
   ],
   "source": [
    "graph = {\n",
    "        'A': ['B', 'C'],\n",
    "        'B': ['A', 'D', 'E'],\n",
    "        'C': ['A', 'F'],\n",
    "        'D': ['B'],\n",
    "        'E': ['B'],\n",
    "        'F': ['C']\n",
    "    }\n",
    "start_point=\"A\"\n",
    "BFS(graph,start_point)"
   ]
  },
  {
   "cell_type": "markdown",
   "metadata": {},
   "source": [
    "#### Matrix Chain Multiplication"
   ]
  },
  {
   "cell_type": "code",
   "execution_count": 13,
   "metadata": {},
   "outputs": [
    {
     "name": "stdout",
     "output_type": "stream",
     "text": [
      "Minimum number of multiplications is: \n",
      "140\n"
     ]
    }
   ],
   "source": [
    "import sys\n",
    "mc = [[-1 for n in range(50)] for m in range(50)]\n",
    "def DynamicProgramming(c, i, j):\n",
    "   if (i == j):\n",
    "      return 0\n",
    "   if (mc[i][j] != -1):\n",
    "      return mc[i][j]\n",
    "   mc[i][j] =sys.maxsize\n",
    "\n",
    "   for k in range (i, j):\n",
    "      mc[i][j] = min(mc[i][j], DynamicProgramming(c, i, k) + DynamicProgramming(c, k + 1, j) + c[i - 1] * c[k] * c[j]);\n",
    "   return mc[i][j]\n",
    "\n",
    "def Matrix(c, n):\n",
    "   i = 1\n",
    "   j = n - 1\n",
    "   return DynamicProgramming(c, i, j);\n",
    "\n",
    "arr = [ 2, 6, 7, 4 ]\n",
    "n = len(arr)\n",
    "print(\"Minimum number of multiplications is: \")\n",
    "print(Matrix(arr, n))"
   ]
  },
  {
   "cell_type": "code",
   "execution_count": null,
   "metadata": {},
   "outputs": [],
   "source": []
  }
 ],
 "metadata": {
  "kernelspec": {
   "display_name": "Python 3",
   "language": "python",
   "name": "python3"
  },
  "language_info": {
   "codemirror_mode": {
    "name": "ipython",
    "version": 3
   },
   "file_extension": ".py",
   "mimetype": "text/x-python",
   "name": "python",
   "nbconvert_exporter": "python",
   "pygments_lexer": "ipython3",
   "version": "3.11.0"
  }
 },
 "nbformat": 4,
 "nbformat_minor": 2
}
