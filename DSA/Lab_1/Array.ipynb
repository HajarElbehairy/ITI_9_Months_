{
 "cells": [
  {
   "cell_type": "markdown",
   "metadata": {},
   "source": [
    "###Stack using Array"
   ]
  },
  {
   "cell_type": "code",
   "execution_count": 2,
   "metadata": {},
   "outputs": [],
   "source": [
    "# class Stack using Arrays\n",
    "class Stack:\n",
    "    def __init__(self,size):\n",
    "        self.Array=[None] * size\n",
    "        self.tos=0\n",
    "        self.size=size\n",
    "    def push(self,number):\n",
    "        pushed=False\n",
    "        if (self.tos<self.size):\n",
    "            self.Array[self.tos]=number\n",
    "            self.tos=self.tos+1\n",
    "            pushed=True\n",
    "        else:\n",
    "            raise Exception(\"Stack is Full\")\n",
    "        return pushed\n",
    "    def pop(self):\n",
    "        poped_element=-1\n",
    "        if (self.tos>0):\n",
    "            self.tos=self.tos-1\n",
    "            poped_element=self.Array[self.tos]\n",
    "            return poped_element\n",
    "        else:\n",
    "            raise Exception(\"Stack is Empty\")"
   ]
  },
  {
   "cell_type": "code",
   "execution_count": 3,
   "metadata": {},
   "outputs": [
    {
     "name": "stdout",
     "output_type": "stream",
     "text": [
      "Stack after pushes: [10, 20, 30]\n",
      "Popped: 30\n",
      "Popped: 20\n",
      "Stack after pops: [10]\n"
     ]
    }
   ],
   "source": [
    "# Example Usage\n",
    "my_stack = Stack(5)\n",
    "my_stack.push(10)\n",
    "my_stack.push(20)\n",
    "my_stack.push(30)\n",
    "print(\"Stack after pushes:\", my_stack.Array[:my_stack.tos])\n",
    "print(\"Popped:\", my_stack.pop())\n",
    "print(\"Popped:\", my_stack.pop())\n",
    "print(\"Stack after pops:\", my_stack.Array[:my_stack.tos])"
   ]
  },
  {
   "cell_type": "markdown",
   "metadata": {},
   "source": [
    "#### Queue using array"
   ]
  },
  {
   "cell_type": "code",
   "execution_count": 6,
   "metadata": {},
   "outputs": [],
   "source": [
    "class Node_:\n",
    "    def __init__(self,data):\n",
    "        self.data=data\n",
    "        self.next=None\n"
   ]
  },
  {
   "cell_type": "code",
   "execution_count": 7,
   "metadata": {},
   "outputs": [],
   "source": [
    "class Queue:\n",
    "    def __init__(self,size):\n",
    "        self.Array=[None] * size\n",
    "        self.tos=0\n",
    "        self.size=size\n",
    "    def enqueue(self,data):\n",
    "        node=Node_(data)\n",
    "        pushed=False\n",
    "        if (self.tos<self.size):\n",
    "            self.Array[self.tos]=data\n",
    "            self.tos=self.tos+1\n",
    "            pushed=True\n",
    "        else:\n",
    "            raise Exception(\"Queue is Full\")\n",
    "        return pushed\n",
    "    def dequeue(self):\n",
    "        if self.tos == 0:\n",
    "            raise Exception(\"Queue is Empty\")\n",
    "        else:\n",
    "            popped_element = self.Array[0]\n",
    "            for i in range(self.tos - 1):\n",
    "                self.Array[i] = self.Array[i + 1]\n",
    "            self.Array[self.tos - 1] = None\n",
    "            self.tos -= 1\n",
    "        return popped_element\n"
   ]
  },
  {
   "cell_type": "code",
   "execution_count": 8,
   "metadata": {},
   "outputs": [
    {
     "name": "stdout",
     "output_type": "stream",
     "text": [
      "Dequeued: 10\n",
      "Dequeued: 20\n",
      "Dequeued: 30\n"
     ]
    },
    {
     "data": {
      "text/plain": [
       "40"
      ]
     },
     "execution_count": 8,
     "metadata": {},
     "output_type": "execute_result"
    }
   ],
   "source": [
    "queue = Queue(5)\n",
    "\n",
    "# Enqueue elements\n",
    "queue.enqueue(10)\n",
    "queue.enqueue(20)\n",
    "queue.enqueue(30)\n",
    "queue.enqueue(40)\n",
    "queue.enqueue(50)\n",
    "print(\"Dequeued:\", queue.dequeue())\n",
    "print(\"Dequeued:\", queue.dequeue())\n",
    "print(\"Dequeued:\", queue.dequeue())\n",
    "queue.dequeue()\n"
   ]
  },
  {
   "cell_type": "code",
   "execution_count": null,
   "metadata": {},
   "outputs": [],
   "source": []
  }
 ],
 "metadata": {
  "kernelspec": {
   "display_name": "Python 3",
   "language": "python",
   "name": "python3"
  },
  "language_info": {
   "codemirror_mode": {
    "name": "ipython",
    "version": 3
   },
   "file_extension": ".py",
   "mimetype": "text/x-python",
   "name": "python",
   "nbconvert_exporter": "python",
   "pygments_lexer": "ipython3",
   "version": "3.11.0"
  }
 },
 "nbformat": 4,
 "nbformat_minor": 2
}
