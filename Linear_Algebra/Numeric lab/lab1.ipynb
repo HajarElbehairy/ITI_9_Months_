{
 "cells": [
  {
   "cell_type": "markdown",
   "id": "4a4773be",
   "metadata": {},
   "source": [
    "# Q1"
   ]
  },
  {
   "cell_type": "markdown",
   "id": "73bf6c71",
   "metadata": {},
   "source": [
    "Write a numpy program to create a structured array from given student name ,height,class and their data types,then sort the array on height;"
   ]
  },
  {
   "cell_type": "code",
   "execution_count": 3,
   "id": "b22d27e2",
   "metadata": {},
   "outputs": [
    {
     "name": "stdout",
     "output_type": "stream",
     "text": [
      "Original array:\n",
      "[(b'hajar', 163, b'AI1') (b'magdy', 145, b'KG1') (b'Yazn', 180, b'KG2')\n",
      " (b'Ahmed', 185, b'DR1') (b'Aliaa', 150, b'PR1')]\n",
      "________________________________________________\n",
      "Sort by height\n",
      "[(b'magdy', 145, b'KG1') (b'Aliaa', 150, b'PR1') (b'hajar', 163, b'AI1')\n",
      " (b'Yazn', 180, b'KG2') (b'Ahmed', 185, b'DR1')]\n"
     ]
    }
   ],
   "source": [
    "import numpy as np\n",
    "student=[('hajar',163,\"AI1\"),(\"magdy\",145,\"KG1\"),(\"Yazn\",180,\"KG2\"),(\"Ahmed\",185,\"DR1\"),(\"Aliaa\",150,\"PR1\")]\n",
    "data_type = [('name', 'S15'), ('height', int),('class', 'S5')]\n",
    "students = np.array(student, dtype=data_type)\n",
    "print(\"Original array:\")\n",
    "print(students)\n",
    "print(\"________________________________________________\")\n",
    "print(\"Sort by height\")\n",
    "print(np.sort(students, order='height'))  "
   ]
  },
  {
   "cell_type": "markdown",
   "id": "3b1dfc22",
   "metadata": {},
   "source": [
    "# Q2: Using Both Numpy and Scipy\n",
    "Kindly solve the following equations using SciPy:\n"
   ]
  },
  {
   "cell_type": "markdown",
   "id": "3c189915",
   "metadata": {},
   "source": [
    "x+2y−3z+2w=30\n",
    "\n",
    "2x−5y+4z+9w=4\n",
    "\n",
    "−5x+40y−z−20w=−6\n",
    "\n",
    "5x−4y−z+60w=5"
   ]
  },
  {
   "cell_type": "markdown",
   "id": "dc7a6272",
   "metadata": {},
   "source": [
    "##### Method NUM1"
   ]
  },
  {
   "cell_type": "code",
   "execution_count": 4,
   "id": "3e008685",
   "metadata": {},
   "outputs": [
    {
     "data": {
      "text/plain": [
       "(4, 4)"
      ]
     },
     "execution_count": 4,
     "metadata": {},
     "output_type": "execute_result"
    }
   ],
   "source": [
    "A=np.array([[1,2,-3,2],[2,-5,4,9],[-5,40,-1,-20],[5,-4,-1,60]])\n",
    "A.shape"
   ]
  },
  {
   "cell_type": "code",
   "execution_count": 5,
   "id": "eb7372bf",
   "metadata": {},
   "outputs": [
    {
     "data": {
      "text/plain": [
       "(4, 1)"
      ]
     },
     "execution_count": 5,
     "metadata": {},
     "output_type": "execute_result"
    }
   ],
   "source": [
    "b=np.array([[30],[4],[-6],[5]])\n",
    "b.shape"
   ]
  },
  {
   "cell_type": "code",
   "execution_count": 6,
   "id": "f6a25adc",
   "metadata": {},
   "outputs": [
    {
     "data": {
      "text/plain": [
       "array([[ 0.60706806,  0.43926702,  0.01649215, -0.08062827],\n",
       "       [ 0.04777487,  0.04319372,  0.02814136,  0.0013089 ],\n",
       "       [-0.13219895,  0.15445026,  0.02486911, -0.0104712 ],\n",
       "       [-0.04960733, -0.03115183,  0.00091623,  0.02329843]])"
      ]
     },
     "execution_count": 6,
     "metadata": {},
     "output_type": "execute_result"
    }
   ],
   "source": [
    "A_inv = np.linalg.inv(A)\n",
    "A_inv"
   ]
  },
  {
   "cell_type": "code",
   "execution_count": 7,
   "id": "bd7576b1",
   "metadata": {},
   "outputs": [
    {
     "data": {
      "text/plain": [
       "array([[19.46701571],\n",
       "       [ 1.44371728],\n",
       "       [-3.54973822],\n",
       "       [-1.50183246]])"
      ]
     },
     "execution_count": 7,
     "metadata": {},
     "output_type": "execute_result"
    }
   ],
   "source": [
    "A_inv.dot(b)"
   ]
  },
  {
   "cell_type": "markdown",
   "id": "45745b93",
   "metadata": {},
   "source": [
    "#### Method NUM2"
   ]
  },
  {
   "cell_type": "code",
   "execution_count": 8,
   "id": "fea473f0",
   "metadata": {},
   "outputs": [
    {
     "data": {
      "text/plain": [
       "array([[19.46701571],\n",
       "       [ 1.44371728],\n",
       "       [-3.54973822],\n",
       "       [-1.50183246]])"
      ]
     },
     "execution_count": 8,
     "metadata": {},
     "output_type": "execute_result"
    }
   ],
   "source": [
    "np.linalg.solve(A, b)"
   ]
  },
  {
   "cell_type": "markdown",
   "id": "c6b99079",
   "metadata": {},
   "source": [
    "# Q3: Implement the L1 and L2 loss functions"
   ]
  },
  {
   "cell_type": "markdown",
   "id": "f0777deb",
   "metadata": {},
   "source": [
    "\n",
    "Exercise: Implement the numpy vectorized version of the L1 loss. You may find the function abs(x) (absolute value of x) useful.\n",
    "\n",
    "Reminder:\n",
    "\n",
    "The loss is used to evaluate the performance of your model. The bigger your loss is, the more different your predictions (\n",
    "^\n",
    "y\n",
    ") are from the true values (\n",
    "y\n",
    "). In deep learning, you use optimization algorithms like Gradient Descent to train your model and to minimize the cost.\n",
    "L1 loss is defined as:"
   ]
  },
  {
   "cell_type": "markdown",
   "id": "afd2441b",
   "metadata": {},
   "source": [
    "# The L1 norm is calculated as the sum of the absolute vector values "
   ]
  },
  {
   "cell_type": "code",
   "execution_count": 9,
   "id": "c882803c",
   "metadata": {},
   "outputs": [],
   "source": [
    "def L1(yhat, y):\n",
    "    \"\"\"\n",
    "    Arguments:\n",
    "    yhat -- vector of size m (predicted labels)\n",
    "    y -- vector of size m (true labels)\n",
    "    \n",
    "    Returns:\n",
    "    loss -- the value of the L1 loss function defined above\n",
    "    \"\"\"\n",
    "    \n",
    "    ### START CODE HERE ### (â‰ˆ 1 line of code)\n",
    "    loss = None\n",
    "    loss =np.abs(y-yhat).sum()\n",
    "    ### END CODE HERE ###\n",
    "    \n",
    "    return loss"
   ]
  },
  {
   "cell_type": "code",
   "execution_count": 10,
   "id": "410d10b1",
   "metadata": {},
   "outputs": [
    {
     "name": "stdout",
     "output_type": "stream",
     "text": [
      "L1 = 1.1\n"
     ]
    }
   ],
   "source": [
    "yhat = np.array([.9, 0.2, 0.1, .4, .9])\n",
    "y    = np.array([1 ,  0 ,  0 ,  1, 1])\n",
    "\n",
    "l1_loss = L1(yhat,y)\n",
    "print(\"L1 = \" + str(l1_loss))"
   ]
  },
  {
   "cell_type": "markdown",
   "id": "40f9fc11",
   "metadata": {},
   "source": [
    "Exercise: Implement the numpy vectorized version of the L2 loss. There are several way of implementing the L2 loss but you may find the function np.dot() useful. As a reminder,"
   ]
  },
  {
   "cell_type": "code",
   "execution_count": 11,
   "id": "8274268e",
   "metadata": {},
   "outputs": [],
   "source": [
    "def L2(yhat, y):\n",
    "    \"\"\"\n",
    "    Arguments:\n",
    "    yhat -- vector of size m (predicted labels)\n",
    "    y -- vector of size m (true labels)\n",
    "    \n",
    "    Returns:\n",
    "    loss -- the value of the L2 loss function defined above\n",
    "    \"\"\"\n",
    "    \n",
    "    ### START CODE HERE ### (â‰ˆ 1 line of code)\n",
    "    loss = None\n",
    "    loss = np.dot(np.abs(yhat-y),np.abs(yhat-y))\n",
    "    ### END CODE HERE ###\n",
    "    \n",
    "    return loss"
   ]
  },
  {
   "cell_type": "code",
   "execution_count": 12,
   "id": "d8e757ac",
   "metadata": {},
   "outputs": [
    {
     "name": "stdout",
     "output_type": "stream",
     "text": [
      "L2 = 0.43\n"
     ]
    }
   ],
   "source": [
    "yhat = np.array([.9, 0.2, 0.1, .4, .9])\n",
    "y    = np.array([1 ,  0 ,  0 ,  1, 1])\n",
    "\n",
    "l2_loss = L2(yhat,y)\n",
    "\n",
    "print(\"L2 = \" + str(l2_loss))"
   ]
  },
  {
   "cell_type": "markdown",
   "id": "7888a68a",
   "metadata": {},
   "source": [
    "## Q4: Comparing the dot product using parallelism in Python vs numpy_dot_product vs using the for_loop and compute the time needed for each."
   ]
  },
  {
   "cell_type": "code",
   "execution_count": 13,
   "id": "e9a5f653",
   "metadata": {},
   "outputs": [],
   "source": [
    "def slow_dot_product(a, b):\n",
    "    result = 0\n",
    "    for i in range(len(a)):\n",
    "        result += a[i] * b[i]\n",
    "    return result"
   ]
  },
  {
   "cell_type": "code",
   "execution_count": 15,
   "id": "65813353",
   "metadata": {},
   "outputs": [],
   "source": [
    "import time"
   ]
  },
  {
   "cell_type": "code",
   "execution_count": 22,
   "id": "1e5d506e",
   "metadata": {},
   "outputs": [],
   "source": [
    "a=np.array([[1,2],[3,4]])\n",
    "b=np.array([[1,2],[3,4]])"
   ]
  },
  {
   "cell_type": "code",
   "execution_count": 23,
   "id": "ef644fa5",
   "metadata": {},
   "outputs": [
    {
     "name": "stdout",
     "output_type": "stream",
     "text": [
      "Time in sec: 0.0\n"
     ]
    }
   ],
   "source": [
    "tic = time.process_time()\n",
    "slow_dot_product(a, b)\n",
    "toc = time.process_time()\n",
    "dt1 = toc - tic\n",
    "\n",
    "print(\"Time in sec:\", dt1)"
   ]
  },
  {
   "cell_type": "code",
   "execution_count": 24,
   "id": "30661a7f",
   "metadata": {},
   "outputs": [
    {
     "name": "stdout",
     "output_type": "stream",
     "text": [
      "Time in sec: 0.0\n"
     ]
    }
   ],
   "source": [
    "tic = time.process_time()\n",
    "a @ b    \n",
    "toc = time.process_time()\n",
    "dt1 = toc - tic\n",
    "\n",
    "print(\"Time in sec:\", dt1)"
   ]
  },
  {
   "cell_type": "code",
   "execution_count": 28,
   "id": "b91dc7eb",
   "metadata": {},
   "outputs": [],
   "source": [
    "# number of experiments \n",
    "T = 1000\n",
    "\n",
    "a = np.random.randn(10_000)\n",
    "b = np.random.randn(10_000)"
   ]
  },
  {
   "cell_type": "code",
   "execution_count": 26,
   "id": "04f8f140",
   "metadata": {},
   "outputs": [
    {
     "name": "stdout",
     "output_type": "stream",
     "text": [
      "Time in sec: 7.140625\n"
     ]
    }
   ],
   "source": [
    "tic = time.process_time()\n",
    "\n",
    "for t in range(T):\n",
    "    slow_dot_product(a, b)\n",
    "    \n",
    "toc = time.process_time()\n",
    "dt1 = toc - tic\n",
    "\n",
    "print(\"Time in sec:\", dt1)"
   ]
  },
  {
   "cell_type": "code",
   "execution_count": 29,
   "id": "2acf8d52",
   "metadata": {},
   "outputs": [
    {
     "name": "stdout",
     "output_type": "stream",
     "text": [
      "Time in sec: 0.0\n"
     ]
    }
   ],
   "source": [
    "tic = time.process_time()\n",
    "\n",
    "for t in range(T):\n",
    "    a @ b\n",
    "    \n",
    "toc = time.process_time()\n",
    "dt1 = toc - tic\n",
    "\n",
    "print(\"Time in sec:\", dt1)"
   ]
  },
  {
   "cell_type": "code",
   "execution_count": null,
   "id": "43a47c53",
   "metadata": {},
   "outputs": [],
   "source": []
  }
 ],
 "metadata": {
  "kernelspec": {
   "display_name": "Python 3 (ipykernel)",
   "language": "python",
   "name": "python3"
  },
  "language_info": {
   "codemirror_mode": {
    "name": "ipython",
    "version": 3
   },
   "file_extension": ".py",
   "mimetype": "text/x-python",
   "name": "python",
   "nbconvert_exporter": "python",
   "pygments_lexer": "ipython3",
   "version": "3.9.13"
  }
 },
 "nbformat": 4,
 "nbformat_minor": 5
}
