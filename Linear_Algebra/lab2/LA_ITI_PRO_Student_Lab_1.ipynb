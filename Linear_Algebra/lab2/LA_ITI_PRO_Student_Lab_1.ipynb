{
 "cells": [
  {
   "cell_type": "markdown",
   "metadata": {},
   "source": [
    "# LAB 1: Matrix and Vector Computations in python\n",
    "In this lab you will use python to study the following topics:\n",
    "\n",
    "- How to create matrices and vectors in python.\n",
    "\n",
    "- How to manipulate matrices in python and create matrices of special types.\n",
    "\n",
    "- How to add matrices and multiply a vector by a matrix by python.\n",
    "\n",
    "- Solving System of Linear Equations Using Gaussian Elimination.\n",
    "\n",
    "- Matrix Multiplication using Different views."
   ]
  },
  {
   "cell_type": "markdown",
   "metadata": {},
   "source": [
    "# First: you should run this cell"
   ]
  },
  {
   "cell_type": "code",
   "execution_count": 1,
   "metadata": {},
   "outputs": [],
   "source": [
    "# Make all numpy available via shorter 'np' prefix\n",
    "import numpy as np\n",
    "\n",
    "import sympy as sym"
   ]
  },
  {
   "cell_type": "markdown",
   "metadata": {},
   "source": [
    "# Question 1 :Declaring scalars, vectors, and matrices\n",
    "\n",
    "a) Use [numpy.array](https://numpy.org/doc/stable/reference/generated/numpy.array.html) to declare the following:\n",
    "\n",
    "1. A scalar $s = 5$\n",
    "2. A vector $v = \\begin{bmatrix} 5  \\\\ -2 \\\\ 4  \\\\ \\end{bmatrix}$\n",
    "3. A matrix $A = \\begin{bmatrix} 1 & 2 & 3  \\\\ 4 & 5 & 6 \\\\ 7 & 8 & 9  \\\\ \\end{bmatrix}$\n",
    "4. A matrix $B = \\begin{bmatrix} 1 & 2 & 3  \\\\ 4 & 5 & 6 \\\\ \\end{bmatrix}$\n",
    "5. A matrix $C = \\begin{bmatrix} 1 & 2   \\\\ 3 & 4  \\\\ 5 & 6   \\\\ \\end{bmatrix}$"
   ]
  },
  {
   "cell_type": "code",
   "execution_count": 25,
   "metadata": {},
   "outputs": [],
   "source": [
    "# My code\n",
    "s=np.array(5)\n",
    "v=np.array([[5],[-2],[4]])\n",
    "A=np.array([[1,2,3],[4,5,6],[7,8,9]])\n",
    "B=np.arange(1,7).reshape(2,3)\n",
    "C=np.arange(1,7).reshape(3,2)"
   ]
  },
  {
   "cell_type": "code",
   "execution_count": 26,
   "metadata": {},
   "outputs": [
    {
     "name": "stdout",
     "output_type": "stream",
     "text": [
      "s =  5\n",
      "v = \n",
      "[[ 5]\n",
      " [-2]\n",
      " [ 4]]\n",
      "A = \n",
      "[[1 2 3]\n",
      " [4 5 6]\n",
      " [7 8 9]]\n",
      "B = \n",
      "[[1 2 3]\n",
      " [4 5 6]]\n",
      "C = \n",
      "[[1 2]\n",
      " [3 4]\n",
      " [5 6]]\n"
     ]
    }
   ],
   "source": [
    "print(\"s = \",s)\n",
    "print(\"v = \")\n",
    "print(v)\n",
    "print(\"A = \")\n",
    "print(A)\n",
    "print(\"B = \")\n",
    "print(B)\n",
    "print(\"C = \")\n",
    "print(C)\n"
   ]
  },
  {
   "cell_type": "code",
   "execution_count": 2,
   "metadata": {},
   "outputs": [
    {
     "name": "stdout",
     "output_type": "stream",
     "text": [
      "s = 5\n",
      "\n",
      "v =\n",
      " [[ 5]\n",
      " [-2]\n",
      " [ 4]]\n",
      "\n",
      "A =\n",
      " [[1 2 3]\n",
      " [4 5 6]\n",
      " [7 8 9]]\n",
      "\n",
      "B =\n",
      " [[1 2 3]\n",
      " [4 5 6]]\n",
      "\n",
      "C =\n",
      " [[1 2]\n",
      " [3 4]\n",
      " [5 6]]\n",
      "\n"
     ]
    }
   ],
   "source": [
    "#type your code here:\n"
   ]
  },
  {
   "cell_type": "markdown",
   "metadata": {},
   "source": [
    "b) Print the data type of $s, v,$ and $A$ using `type` command in python."
   ]
  },
  {
   "cell_type": "code",
   "execution_count": 3,
   "metadata": {},
   "outputs": [
    {
     "name": "stdout",
     "output_type": "stream",
     "text": [
      "type(s) = <class 'numpy.ndarray'>\n",
      "\n",
      "type(v) = <class 'numpy.ndarray'>\n",
      "\n",
      "type(A) = <class 'numpy.ndarray'>\n",
      "\n"
     ]
    }
   ],
   "source": [
    "#type your code here:\n"
   ]
  },
  {
   "cell_type": "code",
   "execution_count": 35,
   "metadata": {},
   "outputs": [
    {
     "name": "stdout",
     "output_type": "stream",
     "text": [
      "type (s) = <class 'numpy.ndarray'>\n",
      "type (v) = <class 'numpy.ndarray'>\n",
      "type (A) = <class 'numpy.ndarray'>\n"
     ]
    }
   ],
   "source": [
    "# My code\n",
    "print(\"type (s) =\",type(s))\n",
    "print(\"type (v) =\",type(v))\n",
    "print(\"type (A) =\",type(A))"
   ]
  },
  {
   "cell_type": "markdown",
   "metadata": {},
   "source": [
    "c) Using [numpy.shape](https://numpy.org/devdocs/reference/generated/numpy.shape.html) or `A.shape` print the shape of $s, v, A, B,$ and $C$."
   ]
  },
  {
   "cell_type": "code",
   "execution_count": 4,
   "metadata": {},
   "outputs": [
    {
     "name": "stdout",
     "output_type": "stream",
     "text": [
      "s.shape = ()\n",
      "\n",
      "v.shape = (3, 1)\n",
      "\n",
      "A.shape = (3, 3)\n",
      "\n",
      "B.shape = (2, 3)\n",
      "\n",
      "C.shape = (3, 2)\n",
      "\n"
     ]
    }
   ],
   "source": [
    "#type your code here:\n"
   ]
  },
  {
   "cell_type": "code",
   "execution_count": 40,
   "metadata": {},
   "outputs": [
    {
     "name": "stdout",
     "output_type": "stream",
     "text": [
      "s.shape =  ()\n",
      "v.shape =  (3, 1)\n",
      "A.shape =  (3, 3)\n",
      "B.shape =  (2, 3)\n",
      "C.shape =  (3, 2)\n"
     ]
    }
   ],
   "source": [
    "print(\"s.shape = \",np.shape(s))\n",
    "print(\"v.shape = \",np.shape(v))\n",
    "print(\"A.shape = \",np.shape(A))\n",
    "print(\"B.shape = \",np.shape(B))\n",
    "print(\"C.shape = \",np.shape(C))"
   ]
  },
  {
   "cell_type": "markdown",
   "metadata": {},
   "source": [
    "d) To access a given entry in the `numpy array` put the `row number - 1` and `column number - 1` in square brackets following the array name. Ex `a32 = A[2, 1]`.\n",
    "- Print the value of the third row and the second column of the matrix $A$.\n",
    "- Change it to $10$.\n",
    "- Print the matrix A to check the entry is changed."
   ]
  },
  {
   "cell_type": "code",
   "execution_count": 5,
   "metadata": {},
   "outputs": [
    {
     "name": "stdout",
     "output_type": "stream",
     "text": [
      "A[2, 1] =  8\n",
      "\n",
      "A =\n",
      " [[ 1  2  3]\n",
      " [ 4  5  6]\n",
      " [ 7 10  9]]\n",
      "\n"
     ]
    }
   ],
   "source": [
    "#type your code here:\n"
   ]
  },
  {
   "cell_type": "code",
   "execution_count": 49,
   "metadata": {},
   "outputs": [],
   "source": [
    "# My Code"
   ]
  },
  {
   "cell_type": "code",
   "execution_count": 41,
   "metadata": {},
   "outputs": [
    {
     "data": {
      "text/plain": [
       "array([[1, 2, 3],\n",
       "       [4, 5, 6],\n",
       "       [7, 8, 9]])"
      ]
     },
     "execution_count": 41,
     "metadata": {},
     "output_type": "execute_result"
    }
   ],
   "source": [
    "A"
   ]
  },
  {
   "cell_type": "code",
   "execution_count": 46,
   "metadata": {},
   "outputs": [
    {
     "name": "stdout",
     "output_type": "stream",
     "text": [
      "A[2, 1] =  8\n"
     ]
    }
   ],
   "source": [
    "print(\"A[2, 1] = \",A[2][1])"
   ]
  },
  {
   "cell_type": "code",
   "execution_count": 47,
   "metadata": {},
   "outputs": [],
   "source": [
    "A[2,1]=10"
   ]
  },
  {
   "cell_type": "code",
   "execution_count": 48,
   "metadata": {},
   "outputs": [
    {
     "data": {
      "text/plain": [
       "array([[ 1,  2,  3],\n",
       "       [ 4,  5,  6],\n",
       "       [ 7, 10,  9]])"
      ]
     },
     "execution_count": 48,
     "metadata": {},
     "output_type": "execute_result"
    }
   ],
   "source": [
    "A"
   ]
  },
  {
   "cell_type": "markdown",
   "metadata": {},
   "source": [
    "e)To access a whole row or column of a matrix, use the colon operator. For example, `A[:, [1]]` is the second column of A, while `B[[1], :]` is the second row of B."
   ]
  },
  {
   "cell_type": "code",
   "execution_count": 6,
   "metadata": {},
   "outputs": [
    {
     "name": "stdout",
     "output_type": "stream",
     "text": [
      "A[:, [1]] =\n",
      " [[ 2]\n",
      " [ 5]\n",
      " [10]]\n",
      "\n",
      "B[[1], :] =\n",
      " [[4 5 6]]\n",
      "\n"
     ]
    }
   ],
   "source": [
    "#type your code here:\n"
   ]
  },
  {
   "cell_type": "code",
   "execution_count": 54,
   "metadata": {},
   "outputs": [],
   "source": [
    "# My Code"
   ]
  },
  {
   "cell_type": "code",
   "execution_count": 52,
   "metadata": {},
   "outputs": [
    {
     "name": "stdout",
     "output_type": "stream",
     "text": [
      "A[:, [1]] = \n",
      " [[ 2]\n",
      " [ 5]\n",
      " [10]]\n"
     ]
    }
   ],
   "source": [
    "print(\"A[:, [1]] = \\n\",A[:, [1]] )"
   ]
  },
  {
   "cell_type": "code",
   "execution_count": 53,
   "metadata": {},
   "outputs": [
    {
     "name": "stdout",
     "output_type": "stream",
     "text": [
      "B[[1], :] = \n",
      " [[4 5 6]]\n"
     ]
    }
   ],
   "source": [
    "print(\"B[[1], :] = \\n\",B[[1], :] )"
   ]
  },
  {
   "cell_type": "markdown",
   "metadata": {},
   "source": [
    "f) Type each of the following commands that generate special matrices:\n",
    "- `np.eye(4), np.zeros(3), np.zeros((3, 1)), np.zeros((3, 5)), np.ones((2, 3)), and np.diag([4, 5, 6, 7])`"
   ]
  },
  {
   "cell_type": "code",
   "execution_count": 7,
   "metadata": {},
   "outputs": [
    {
     "name": "stdout",
     "output_type": "stream",
     "text": [
      "np.eye(4) =\n",
      " [[1. 0. 0. 0.]\n",
      " [0. 1. 0. 0.]\n",
      " [0. 0. 1. 0.]\n",
      " [0. 0. 0. 1.]]\n",
      "\n",
      "np.zeros(3) =\n",
      " [0. 0. 0.]\n",
      "\n",
      "np.zeros(3, 1) =\n",
      " [[0.]\n",
      " [0.]\n",
      " [0.]]\n",
      "\n",
      "np.zeros(3, 5) =\n",
      " [[0. 0. 0. 0. 0.]\n",
      " [0. 0. 0. 0. 0.]\n",
      " [0. 0. 0. 0. 0.]]\n",
      "\n",
      "np.ones(2, 3) =\n",
      " [[1. 1. 1.]\n",
      " [1. 1. 1.]]\n",
      "\n",
      "np.diag([4 5 6 7]) =\n",
      " [[4 0 0 0]\n",
      " [0 5 0 0]\n",
      " [0 0 6 0]\n",
      " [0 0 0 7]]\n"
     ]
    }
   ],
   "source": [
    "#type your code here:\n"
   ]
  },
  {
   "cell_type": "code",
   "execution_count": 70,
   "metadata": {},
   "outputs": [],
   "source": [
    "# MyCode"
   ]
  },
  {
   "cell_type": "code",
   "execution_count": 62,
   "metadata": {},
   "outputs": [
    {
     "name": "stdout",
     "output_type": "stream",
     "text": [
      "np.eye(4) =\n",
      " [[1. 0. 0. 0.]\n",
      " [0. 1. 0. 0.]\n",
      " [0. 0. 1. 0.]\n",
      " [0. 0. 0. 1.]]\n",
      "np.zeros(3) =\n",
      " [0. 0. 0.]\n",
      "np.zeros((3, 1)) =\n",
      " [[0.]\n",
      " [0.]\n",
      " [0.]]\n",
      "np.zeros((3, 5)) =\n",
      " [[0. 0. 0. 0. 0.]\n",
      " [0. 0. 0. 0. 0.]\n",
      " [0. 0. 0. 0. 0.]]\n",
      "np.ones((2, 3)) =\n",
      " [[1. 1. 1.]\n",
      " [1. 1. 1.]]\n",
      "np.diag([4, 5, 6, 7] =\n",
      " [[4 0 0 0]\n",
      " [0 5 0 0]\n",
      " [0 0 6 0]\n",
      " [0 0 0 7]]\n"
     ]
    }
   ],
   "source": [
    "print(\"np.eye(4) =\\n\",np.eye(4))\n",
    "print(\"np.zeros(3) =\\n\",np.zeros(3))\n",
    "print(\"np.zeros((3, 1)) =\\n\",np.zeros((3, 1)))\n",
    "print(\"np.zeros((3, 5)) =\\n\",np.zeros((3, 5)))\n",
    "print(\"np.ones((2, 3)) =\\n\",np.ones((2, 3)))\n",
    "print(\"np.diag([4, 5, 6, 7] =\\n\",np.diag([4, 5, 6, 7]))"
   ]
  },
  {
   "cell_type": "markdown",
   "metadata": {},
   "source": [
    "# Question 2. Vectors Addition, Scaling, and dot product"
   ]
  },
  {
   "cell_type": "markdown",
   "metadata": {},
   "source": [
    "a) Declare vectors $v1 = \\begin{bmatrix} 1  \\\\ 2 \\\\ 7  \\\\ 4 \\\\ \\end{bmatrix}$ and $v2 = \\begin{bmatrix} 4  \\\\ 3 \\\\ 6  \\\\ 8 \\\\ \\end{bmatrix}$\n",
    "\n",
    "- Addition: $v1 + v2$\n",
    "- Subtraction: $v1 - v2$\n",
    "- Scaling by a number: $3 * v1$\n",
    "- Scaling by a number: $v1 / 2$"
   ]
  },
  {
   "cell_type": "code",
   "execution_count": 8,
   "metadata": {},
   "outputs": [
    {
     "name": "stdout",
     "output_type": "stream",
     "text": [
      "v1 =\n",
      " [[1]\n",
      " [2]\n",
      " [7]\n",
      " [4]]\n",
      "\n",
      "v2 =\n",
      " [[4]\n",
      " [3]\n",
      " [6]\n",
      " [8]]\n",
      "\n",
      "v1 + v2 =\n",
      " [[ 5]\n",
      " [ 5]\n",
      " [13]\n",
      " [12]]\n",
      "\n",
      "v1 - v2 =\n",
      " [[-3]\n",
      " [-1]\n",
      " [ 1]\n",
      " [-4]]\n",
      "\n",
      "3*v1 =\n",
      " [[ 3]\n",
      " [ 6]\n",
      " [21]\n",
      " [12]]\n",
      "\n",
      "v1/2 =\n",
      " [[0.5]\n",
      " [1. ]\n",
      " [3.5]\n",
      " [2. ]]\n",
      "\n"
     ]
    }
   ],
   "source": [
    "#type your code here:\n"
   ]
  },
  {
   "cell_type": "code",
   "execution_count": 71,
   "metadata": {},
   "outputs": [],
   "source": [
    "# My Code"
   ]
  },
  {
   "cell_type": "code",
   "execution_count": 63,
   "metadata": {},
   "outputs": [],
   "source": [
    "v1=np.array([[1],[2],[7],[4]])\n",
    "v2=np.array([[4],[3],[6],[8]])"
   ]
  },
  {
   "cell_type": "code",
   "execution_count": 69,
   "metadata": {},
   "outputs": [
    {
     "name": "stdout",
     "output_type": "stream",
     "text": [
      "v1 =\n",
      " [[1]\n",
      " [2]\n",
      " [7]\n",
      " [4]]\n",
      "v2=\n",
      " [[4]\n",
      " [3]\n",
      " [6]\n",
      " [8]]\n",
      "v1+v2=\n",
      " [[ 5]\n",
      " [ 5]\n",
      " [13]\n",
      " [12]]\n",
      "v1-v2=\n",
      " [[-3]\n",
      " [-1]\n",
      " [ 1]\n",
      " [-4]]\n",
      "3*v1=\n",
      " [[ 3]\n",
      " [ 6]\n",
      " [21]\n",
      " [12]]\n",
      "v1/2=\n",
      " [[0.5]\n",
      " [1. ]\n",
      " [3.5]\n",
      " [2. ]]\n"
     ]
    }
   ],
   "source": [
    "print(\"v1 =\\n\",v1)\n",
    "print(\"v2=\\n\",v2)\n",
    "print(\"v1+v2=\\n\",v1+v2)\n",
    "print(\"v1-v2=\\n\",v1-v2)\n",
    "print(\"3*v1=\\n\",3*v1)\n",
    "print(\"v1/2=\\n\",v1/2)"
   ]
  },
  {
   "cell_type": "markdown",
   "metadata": {},
   "source": [
    "b) Find the dot product between the two vectors $v1$ and $v2$ using the following:\n",
    "\n",
    "- [numpy.dot](https://numpy.org/doc/stable/reference/generated/numpy.dot.html)\n",
    "- [numpy.matmul](https://numpy.org/doc/stable/reference/generated/numpy.matmul.html#numpy.matmul)\n",
    "- `v1.T @ v2`"
   ]
  },
  {
   "cell_type": "code",
   "execution_count": 9,
   "metadata": {},
   "outputs": [
    {
     "name": "stdout",
     "output_type": "stream",
     "text": [
      "Using numpy.dot =\n",
      " [[84]]\n",
      "\n",
      "Using numpy.matmul =\n",
      " [[84]]\n",
      "\n",
      "Using @ =\n",
      " [[84]]\n",
      "\n"
     ]
    }
   ],
   "source": [
    "#type your code here:\n"
   ]
  },
  {
   "cell_type": "code",
   "execution_count": 85,
   "metadata": {},
   "outputs": [
    {
     "name": "stdout",
     "output_type": "stream",
     "text": [
      "Using numpy.dot =\n",
      " [[84]]\n",
      "another way of numpy .dot\n",
      " [[84]]\n"
     ]
    }
   ],
   "source": [
    "print(\"Using numpy.dot =\\n\",np.dot(v1.T, v2))\n",
    "print(\"another way of numpy .dot\\n\",v1.T.dot(v2))"
   ]
  },
  {
   "cell_type": "code",
   "execution_count": 88,
   "metadata": {},
   "outputs": [
    {
     "name": "stdout",
     "output_type": "stream",
     "text": [
      "Using @ =\n",
      " [[84]]\n"
     ]
    }
   ],
   "source": [
    "print(\"Using @ =\\n\",v1.T @ v2)"
   ]
  },
  {
   "cell_type": "code",
   "execution_count": 86,
   "metadata": {},
   "outputs": [
    {
     "name": "stdout",
     "output_type": "stream",
     "text": [
      "Using numpy.matmul =\n",
      " [[84]]\n"
     ]
    }
   ],
   "source": [
    "print(\"Using numpy.matmul =\\n\",np.matmul(v1.T, v2))"
   ]
  },
  {
   "cell_type": "markdown",
   "metadata": {},
   "source": [
    "c) Find the length of the vectors $v1$ and $v2$.\n",
    "- Using [numpy.linalg.norm](https://numpy.org/doc/stable/reference/generated/numpy.linalg.norm.html)\n",
    "- Using the dot product and [numpy.sqrt](https://numpy.org/doc/stable/reference/generated/numpy.sqrt.html)\n"
   ]
  },
  {
   "cell_type": "code",
   "execution_count": 10,
   "metadata": {},
   "outputs": [
    {
     "name": "stdout",
     "output_type": "stream",
     "text": [
      "length of v1 Using numpy.linalg.norm =\n",
      " 8.366600265340756\n",
      "\n",
      "length of v2 Using numpy.linalg.norm =\n",
      " 11.180339887498949\n",
      "\n",
      "length of v1 Using the dot product and numpy.sqrt =\n",
      " [[8.36660027]]\n",
      "\n",
      "length of v2 Using the dot product and numpy.sqrt =\n",
      " [[11.18033989]]\n",
      "\n"
     ]
    }
   ],
   "source": [
    "#type your code here:\n"
   ]
  },
  {
   "cell_type": "code",
   "execution_count": 104,
   "metadata": {},
   "outputs": [
    {
     "name": "stdout",
     "output_type": "stream",
     "text": [
      "length of v1 Using numpy.linalg.norm = 8.366600265340756\n",
      "length of v2 Using numpy.linalg.norm = 11.180339887498949\n",
      "length of v1 Using the dot product and numpy.sqrt = [[8.36660027]]\n",
      "length of v1 Using the dot product and numpy.sqrt = [[11.18033989]]\n"
     ]
    }
   ],
   "source": [
    "print(\"length of v1 Using numpy.linalg.norm =\",np.linalg.norm(v1))\n",
    "print(\"length of v2 Using numpy.linalg.norm =\",np.linalg.norm(v2))\n",
    "dot_v1=np.dot(v1.T,v1)\n",
    "print(\"length of v1 Using the dot product and numpy.sqrt =\",np.sqrt(dot_v1))\n",
    "dot_v2=np.dot(v2.T,v2)\n",
    "print(\"length of v1 Using the dot product and numpy.sqrt =\",np.sqrt(dot_v2))\n"
   ]
  },
  {
   "cell_type": "markdown",
   "metadata": {},
   "source": [
    "d) Show that the vectors $u = \\begin{bmatrix} 3  \\\\ 2 \\\\ -1  \\\\ 4 \\\\ \\end{bmatrix}$ and $v = \\begin{bmatrix} 1  \\\\ -1 \\\\ 1  \\\\ 0 \\\\ \\end{bmatrix}$ are orthogonal.\n"
   ]
  },
  {
   "cell_type": "code",
   "execution_count": 11,
   "metadata": {},
   "outputs": [
    {
     "name": "stdout",
     "output_type": "stream",
     "text": [
      "u.T @ v =\n",
      " [[0]]\n",
      "\n"
     ]
    }
   ],
   "source": [
    "#type your code here:\n"
   ]
  },
  {
   "cell_type": "code",
   "execution_count": 108,
   "metadata": {},
   "outputs": [],
   "source": [
    "u=np.array([[3],[2],[-1],[4]])\n",
    "v=np.array([[1],[-1],[1],[0]])\n"
   ]
  },
  {
   "cell_type": "code",
   "execution_count": 110,
   "metadata": {},
   "outputs": [
    {
     "name": "stdout",
     "output_type": "stream",
     "text": [
      "u.T @ v =  [[0]]\n"
     ]
    }
   ],
   "source": [
    "print(\"u.T @ v = \",u.T @ v )"
   ]
  },
  {
   "cell_type": "markdown",
   "metadata": {},
   "source": [
    "# Question 3. Matrix Addition and Matrix-Vector Multiplication\n",
    "\n",
    "Declare vectors $u$ and $v$ and matrices $A$ and $B$ as following:\n",
    "- $u = \\begin{bmatrix} 2  \\\\ 7 \\\\ 2 \\\\ \\end{bmatrix}$, $v = \\begin{bmatrix} 8  \\\\ 2 \\\\ 4 \\\\ \\end{bmatrix}$\n",
    "- $A = \\begin{bmatrix} 7 & 3 & 5  \\\\ 4 & 6 & 2 \\\\ \\end{bmatrix}$, $B = \\begin{bmatrix} 0 & 6 & 4  \\\\ 2 & 3 & 0 \\\\ \\end{bmatrix}$\n",
    "\n",
    "a) Calculate the following using python.\n",
    "\n",
    "- $A+B$\n",
    "- $B+A$\n",
    "- $3A$\n",
    "- $6B$\n",
    "- $2(3B)$\n",
    "- $6A+15B$\n",
    "- $3(2A+5B)$\n",
    "- $(3A^T)^T$"
   ]
  },
  {
   "cell_type": "code",
   "execution_count": 12,
   "metadata": {},
   "outputs": [
    {
     "name": "stdout",
     "output_type": "stream",
     "text": [
      "u =\n",
      " [[2]\n",
      " [7]\n",
      " [2]]\n",
      "\n",
      "v =\n",
      " [[8]\n",
      " [2]\n",
      " [4]]\n",
      "\n",
      "A =\n",
      " [[7 3 5]\n",
      " [4 6 2]]\n",
      "\n",
      "B =\n",
      " [[0 6 4]\n",
      " [2 3 0]]\n",
      "\n",
      "A + B =\n",
      " [[7 9 9]\n",
      " [6 9 2]]\n",
      "\n",
      "B + A =\n",
      " [[7 9 9]\n",
      " [6 9 2]]\n",
      "\n",
      "3A =\n",
      " [[21  9 15]\n",
      " [12 18  6]]\n",
      "\n",
      "6B =\n",
      " [[ 0 36 24]\n",
      " [12 18  0]]\n",
      "\n",
      "2(3B) =\n",
      " [[ 0 36 24]\n",
      " [12 18  0]]\n",
      "\n",
      "6A + 15B =\n",
      " [[ 42 108  90]\n",
      " [ 54  81  12]]\n",
      "\n",
      "3(2A + 5B) =\n",
      " [[ 42 108  90]\n",
      " [ 54  81  12]]\n",
      "\n",
      "\n",
      " (3A^T)^T = \n",
      " [[21  9 15]\n",
      " [12 18  6]]\n"
     ]
    }
   ],
   "source": [
    "#type your code here:\n"
   ]
  },
  {
   "cell_type": "code",
   "execution_count": 112,
   "metadata": {},
   "outputs": [],
   "source": [
    "u=np.array([[2],[7],[2]])\n",
    "v=np.array([[8],[2],[4]])\n",
    "A=np.array([[7,3,5],[4,6,2]])\n",
    "B=np.array([[0,6,4],[2,3,0]])"
   ]
  },
  {
   "cell_type": "code",
   "execution_count": 125,
   "metadata": {},
   "outputs": [
    {
     "name": "stdout",
     "output_type": "stream",
     "text": [
      "u=\n",
      " [[2]\n",
      " [7]\n",
      " [2]]\n",
      "v=\n",
      " [[8]\n",
      " [2]\n",
      " [4]]\n",
      "A=\n",
      " [[7 3 5]\n",
      " [4 6 2]]\n",
      "B=\n",
      " [[0 6 4]\n",
      " [2 3 0]]\n",
      "A+B=\n",
      " [[7 9 9]\n",
      " [6 9 2]]\n",
      "B+A=\n",
      " [[7 9 9]\n",
      " [6 9 2]]\n",
      "3A=\n",
      " [[21  9 15]\n",
      " [12 18  6]]\n",
      "6B=\n",
      " [[ 0 36 24]\n",
      " [12 18  0]]\n",
      "2(3B)=\n",
      " [[ 0 36 24]\n",
      " [12 18  0]]\n",
      "6A + 15B =\n",
      " [[ 42 108  90]\n",
      " [ 54  81  12]]\n",
      "3(2A + 5B) =\n",
      " [[ 42 108  90]\n",
      " [ 54  81  12]]\n",
      "(3A^T)^T = \n",
      " [[21  9 15]\n",
      " [12 18  6]]\n"
     ]
    }
   ],
   "source": [
    "print(\"u=\\n\",u)\n",
    "print(\"v=\\n\",v)\n",
    "print(\"A=\\n\",A)\n",
    "print(\"B=\\n\",B)\n",
    "print(\"A+B=\\n\",A+B)\n",
    "print(\"B+A=\\n\",B+A)\n",
    "print(\"3A=\\n\",3*A)\n",
    "print(\"6B=\\n\",6*B)\n",
    "print(\"2(3B)=\\n\",2*(3*B))\n",
    "print(\"6A + 15B =\\n\",6*A + 15*B )\n",
    "print(\"3(2A + 5B) =\\n\",3*(2*A + 5*B) )\n",
    "print(\"(3A^T)^T = \\n\",(3*A.T).T  )"
   ]
  },
  {
   "cell_type": "markdown",
   "metadata": {},
   "source": [
    "b) To obtain the matrix-vector product $Au$ using python, type `A @ u`. Calculate the following:\n",
    "\n",
    "- $Au+Av$\n",
    "- $A(u+v)$\n",
    "- $(A+B)u$\n",
    "- $Au+Bu$\n",
    "- $A(3u)$\n",
    "- $3A(u)$"
   ]
  },
  {
   "cell_type": "code",
   "execution_count": 13,
   "metadata": {},
   "outputs": [
    {
     "name": "stdout",
     "output_type": "stream",
     "text": [
      "Au + Av =\n",
      " [[127]\n",
      " [106]]\n",
      "\n",
      "A(u + v) =\n",
      " [[127]\n",
      " [106]]\n",
      "\n",
      "(A + B)u =\n",
      " [[95]\n",
      " [79]]\n",
      "\n",
      "Au + Bu =\n",
      " [[95]\n",
      " [79]]\n",
      "\n",
      "A(3u) =\n",
      " [[135]\n",
      " [162]]\n",
      "\n",
      "3A(u) =\n",
      " [[135]\n",
      " [162]]\n",
      "\n"
     ]
    }
   ],
   "source": [
    "#type your code here:\n"
   ]
  },
  {
   "cell_type": "code",
   "execution_count": 139,
   "metadata": {},
   "outputs": [
    {
     "name": "stdout",
     "output_type": "stream",
     "text": [
      "[[10]\n",
      " [ 9]\n",
      " [ 6]]\n"
     ]
    }
   ],
   "source": [
    "Au = np.dot(A, u)  \n",
    "Av = np.dot(A, v)\n",
    "Bu = np.dot(B,u)\n",
    "print(u+v)\n"
   ]
  },
  {
   "cell_type": "code",
   "execution_count": 144,
   "metadata": {},
   "outputs": [
    {
     "name": "stdout",
     "output_type": "stream",
     "text": [
      "Au + Av =\n",
      " [[127]\n",
      " [106]]\n",
      "A(u + v) =\n",
      " [[127]\n",
      " [106]]\n",
      "(A + B)u =\n",
      " [[95]\n",
      " [79]]\n",
      "Au + Bu =\n",
      " [[95]\n",
      " [79]]\n",
      "A(3u) =\n",
      " [[135]\n",
      " [162]]\n",
      "3A(u) =\n",
      " [[135]\n",
      " [162]]\n"
     ]
    }
   ],
   "source": [
    "print(\"Au + Av =\\n\",Au + Av )\n",
    "print(\"A(u + v) =\\n\",np.dot(A,(u + v)) )\n",
    "print(\"(A + B)u =\\n\",(A+B)@u)\n",
    "print(\"Au + Bu =\\n\",Au + Bu )\n",
    "print(\"A(3u) =\\n\",np.dot(A,3*u))\n",
    "print(\"3A(u) =\\n\",3*A @u)"
   ]
  },
  {
   "cell_type": "markdown",
   "metadata": {},
   "source": [
    "# Question 4. Gaussian Elimination and Reduced Row-Echelon Form"
   ]
  },
  {
   "cell_type": "markdown",
   "metadata": {},
   "source": [
    "You will see a step-by-step example of the row operations that transform a matrix $A$ into its reduced row echelon form $R = rref(A)$. In this demonstration, each pivot is chosen to be the largest in its column (for numerical stability), so extra row interchanges are used. Since $rref(A)$ is uniquely determined by $A$, this does not affect the final answer.\n",
    "\n",
    "The built in [rref](https://docs.sympy.org/latest/tutorial/matrices.html#rref) method `sympy.rref()` method just search for the method and its output to deal with the code."
   ]
  },
  {
   "cell_type": "markdown",
   "metadata": {},
   "source": [
    "#### (a) Generate and display a $3 \\times 4$ matrix $A$ with random integer entries "
   ]
  },
  {
   "cell_type": "code",
   "execution_count": 14,
   "metadata": {},
   "outputs": [
    {
     "name": "stdout",
     "output_type": "stream",
     "text": [
      "\n",
      " A = \n",
      " [[8. 0. 4. 1.]\n",
      " [6. 6. 2. 7.]\n",
      " [0. 1. 6. 0.]]\n"
     ]
    }
   ],
   "source": [
    "#type your code here:\n",
    "A = np.fix((10*(np.random.rand(3,4))))\n",
    "print(\"\\n A = \\n\", A)"
   ]
  },
  {
   "cell_type": "markdown",
   "metadata": {},
   "source": [
    "- To transform $A$ into $R = rref(A)$, start with $R = A$.\n",
    "- Normalize the first row of R to get R(1st row, 1st column) = 1\n",
    "\n",
    "    - `R = A`\n",
    "    - `R[0,:] = R[0, :] / R[0, 0]`\n",
    "\n",
    "(note the use of the colon to operate on whole rows of the matrix). \n",
    "\n",
    "<div class=\"alert alert-block alert-warning\">If your random matrix happens to have A(1, 1) = 0, then interchange rows to get a nonzero entry in the (1, 1) position before doing the calculation above.</div>\n",
    "\n",
    "- Now subtract a multiple of the first row of R from the second row to make R(2, 1) = 0:\n",
    "\n",
    "    - `R[1, :] = R[1, :] - R[1, 0] * R[0, :]`\n",
    "\n",
    "- Repeat this procedure to make R(3, 1) = 0:\n",
    "\n",
    "    - `R[2, :] = R[2, :] - R[2, 0] * R[0, :]`\n",
    "\n",
    "The first column of your matrix $R$ should now be the same as the first column of $rref(A)$."
   ]
  },
  {
   "cell_type": "code",
   "execution_count": 15,
   "metadata": {},
   "outputs": [
    {
     "name": "stdout",
     "output_type": "stream",
     "text": [
      "\n",
      " R = \n",
      " [[ 1.     0.     0.5    0.125]\n",
      " [ 0.     6.    -1.     6.25 ]\n",
      " [ 0.     1.     6.     0.   ]]\n"
     ]
    }
   ],
   "source": [
    "#type your code here:\n"
   ]
  },
  {
   "cell_type": "markdown",
   "metadata": {},
   "source": [
    "#### (b)Operate on $R$ by the same method as in (a) to obtain the second column of $rref(A)$. First normalize row $2$ of $R$, then subtract multiples of row $2$ from rows $1$ and $3$ to put zeros in the (1, 2) and (3, 2) positions. Be sure to refer to the entries in your matrix symbolically as was done in part (a)"
   ]
  },
  {
   "cell_type": "code",
   "execution_count": 16,
   "metadata": {},
   "outputs": [
    {
     "name": "stdout",
     "output_type": "stream",
     "text": [
      "\n",
      " R = \n",
      " [[ 1.          0.          0.5         0.125     ]\n",
      " [ 0.          1.         -0.16666667  1.04166667]\n",
      " [ 0.          0.          6.16666667 -1.04166667]]\n"
     ]
    }
   ],
   "source": [
    "#type your code here:\n"
   ]
  },
  {
   "cell_type": "markdown",
   "metadata": {},
   "source": [
    "#### (c) Operate on $R$ by the same method as in (b) to obtain the third column of $rref(A)$. First normalize row $3$ of $R$, then subtract multiples of row $3$ from rows $1$ and $2$ to put zeros in the (1, 3) and (2, 3) positions."
   ]
  },
  {
   "cell_type": "code",
   "execution_count": 17,
   "metadata": {},
   "outputs": [
    {
     "name": "stdout",
     "output_type": "stream",
     "text": [
      "\n",
      " R = \n",
      " [[ 1.          0.          0.          0.20945946]\n",
      " [ 0.          1.          0.          1.01351351]\n",
      " [ 0.          0.          1.         -0.16891892]]\n"
     ]
    }
   ],
   "source": [
    "#type your code here:\n",
    "\n"
   ]
  },
  {
   "cell_type": "code",
   "execution_count": 164,
   "metadata": {},
   "outputs": [
    {
     "name": "stdout",
     "output_type": "stream",
     "text": [
      "\n",
      " A = \n",
      " [[7. 7. 0. 6.]\n",
      " [0. 8. 2. 3.]\n",
      " [3. 0. 7. 1.]]\n"
     ]
    }
   ],
   "source": [
    "#type your code here:\n",
    "A = np.fix((10*(np.random.rand(3,4))))\n",
    "print(\"\\n A = \\n\", A)"
   ]
  },
  {
   "cell_type": "code",
   "execution_count": 165,
   "metadata": {},
   "outputs": [
    {
     "name": "stdout",
     "output_type": "stream",
     "text": [
      "[[1.         1.         0.         0.85714286]\n",
      " [0.         8.         2.         3.        ]\n",
      " [3.         0.         7.         1.        ]]\n"
     ]
    }
   ],
   "source": [
    "R = A\n",
    "R[0,:] = R[0, :] / R[0, 0]\n",
    "print(R)"
   ]
  },
  {
   "cell_type": "code",
   "execution_count": 166,
   "metadata": {},
   "outputs": [
    {
     "name": "stdout",
     "output_type": "stream",
     "text": [
      "[[1.         1.         0.         0.85714286]\n",
      " [0.         8.         2.         3.        ]\n",
      " [3.         0.         7.         1.        ]]\n"
     ]
    }
   ],
   "source": [
    "R[1, :] = R[1, :] - R[1, 0] * R[0, :]\n",
    "print(R)"
   ]
  },
  {
   "cell_type": "code",
   "execution_count": 167,
   "metadata": {},
   "outputs": [
    {
     "name": "stdout",
     "output_type": "stream",
     "text": [
      "[[ 1.          1.          0.          0.85714286]\n",
      " [ 0.          8.          2.          3.        ]\n",
      " [ 0.         -3.          7.         -1.57142857]]\n"
     ]
    }
   ],
   "source": [
    "R[2, :] = R[2, :] - R[2, 0] * R[0, :]\n",
    "print(R)"
   ]
  },
  {
   "cell_type": "code",
   "execution_count": 168,
   "metadata": {},
   "outputs": [
    {
     "name": "stdout",
     "output_type": "stream",
     "text": [
      "[[ 1.          1.          0.          0.85714286]\n",
      " [ 0.          1.          0.25        0.375     ]\n",
      " [ 0.         -3.          7.         -1.57142857]]\n"
     ]
    }
   ],
   "source": [
    "R[1,:] = R[1, :] / R[1, 1]\n",
    "print(R)"
   ]
  },
  {
   "cell_type": "code",
   "execution_count": 169,
   "metadata": {},
   "outputs": [
    {
     "name": "stdout",
     "output_type": "stream",
     "text": [
      "[[ 1.          1.          0.          0.85714286]\n",
      " [ 0.          1.          0.25        0.375     ]\n",
      " [ 0.         -0.42857143  1.         -0.2244898 ]]\n"
     ]
    }
   ],
   "source": [
    "R[2,:] = R[2, :] / R[2, 2]\n",
    "print(R)"
   ]
  },
  {
   "cell_type": "code",
   "execution_count": 177,
   "metadata": {},
   "outputs": [
    {
     "name": "stdout",
     "output_type": "stream",
     "text": [
      "[[ 1.          0.          0.          0.85714286]\n",
      " [ 0.          1.          0.1875      0.375     ]\n",
      " [ 0.         -0.6122449   1.         -0.2244898 ]]\n"
     ]
    }
   ],
   "source": [
    "R[0, 1] = R[0, 1] - R[0, 1] * R[0, 1]\n",
    "print(R)"
   ]
  },
  {
   "cell_type": "code",
   "execution_count": 184,
   "metadata": {},
   "outputs": [
    {
     "name": "stdout",
     "output_type": "stream",
     "text": [
      "[[ 1.          0.          0.          0.85714286]\n",
      " [ 0.          1.          0.12913513  0.375     ]\n",
      " [ 0.          0.          1.         -0.2244898 ]]\n"
     ]
    }
   ],
   "source": [
    "R[2, 1] = R[2, 1] - R[2, 1] \n",
    "print(R)"
   ]
  },
  {
   "cell_type": "code",
   "execution_count": 185,
   "metadata": {},
   "outputs": [
    {
     "name": "stdout",
     "output_type": "stream",
     "text": [
      "[[ 1.          0.          0.          0.85714286]\n",
      " [ 0.          1.          0.          0.375     ]\n",
      " [ 0.          0.          1.         -0.2244898 ]]\n"
     ]
    }
   ],
   "source": [
    "R[1, 2] = R[1, 2] - R[1, 2] \n",
    "print(R)"
   ]
  },
  {
   "cell_type": "markdown",
   "metadata": {},
   "source": [
    "#### (d) Your matrix $R$ should now be transformed into $rref(A)$ (since $A$ is a random $3 \\times 4$ matrix, $rref(A)$ is (almost) sure to have rank (3) `np.linalg.matrix_rank(R)`. Check your answer by python with the rref method . If the answer is not the same as the current value of your $R$, go back and redo your calculations.\n",
    "\n",
    "- use the the built in rref method `sympy.rref()`\n",
    "- print the output matrix in numpy array type\n",
    "\n",
    "    - `M = sym.Matrix(A)`\n",
    "    - `M_rref = M.rref()`\n",
    "    - `R = np.array((M_rref[0])).astype(np.float64)`"
   ]
  },
  {
   "cell_type": "code",
   "execution_count": 18,
   "metadata": {},
   "outputs": [
    {
     "name": "stdout",
     "output_type": "stream",
     "text": [
      "\n",
      " rank = \n",
      " 3\n",
      "\n",
      " The Row echelon form of matrix M \n",
      " [[ 1.          0.          0.          0.20945946]\n",
      " [ 0.          1.          0.          1.01351351]\n",
      " [ 0.          0.          1.         -0.16891892]]\n"
     ]
    }
   ],
   "source": [
    "#type your code here:\n",
    "\n",
    "# Use sympy.rref() method \n"
   ]
  },
  {
   "cell_type": "code",
   "execution_count": 187,
   "metadata": {},
   "outputs": [
    {
     "name": "stdout",
     "output_type": "stream",
     "text": [
      "[[ 1.          0.          0.          0.85714286]\n",
      " [ 0.          1.          0.          0.375     ]\n",
      " [ 0.          0.          1.         -0.2244898 ]]\n"
     ]
    }
   ],
   "source": [
    "M = sym.Matrix(A)\n",
    "M_rref = M.rref()\n",
    "R = np.array((M_rref[0])).astype(np.float64)\n",
    "print(R)"
   ]
  },
  {
   "cell_type": "markdown",
   "metadata": {},
   "source": [
    "# Question 5. Matrix Multiplication using Different views"
   ]
  },
  {
   "cell_type": "markdown",
   "metadata": {},
   "source": [
    "we discussed in the lecture four different ways about product $AB = C$ where $A$ and $B$ are arbitry matrices. If $A$ is an $m \\times n$ matrix and $B$ is an $n \\times p$ matrix, then $C$ is an $m \\times p$ matrix:\n",
    "\n",
    "1. **Standard(row times column):** The standard way of describing a matrix product is to say that $c_(ij)$ equals the dot product of row $i$ of matrix $A$ and column $j$ of matrix $B$. \n",
    " \n",
    "2. **Columns:** The product of matrix $A$ and column $j$ of matrix $B$ equals column $j$ of matrix  $C$. This tells us that the columns of $C$ are combinations of columns of $A$.\n",
    "\n",
    "3. **Rows:** The product of row $i$ of matrix $A$ and matrix $B$ equals row $i$ of matrix $C$.So the rows of $C$ are combinations of rows of $B$.\n",
    "\n",
    "4. **Column times row**: A column of $A$ is an $m \\times 1$ vector and a row of $B$ is a $1 \\times p$ vector.Their product is a matrix."
   ]
  },
  {
   "cell_type": "markdown",
   "metadata": {},
   "source": [
    "In this problem we will use python to perform the matrix multiplication using these different ways, and compute the execution time for each method time.\n",
    "\n",
    "(Write your code as a function that perform the multiplication for arbitrary size of the matrices $A$ and $B$)"
   ]
  },
  {
   "cell_type": "code",
   "execution_count": 189,
   "metadata": {},
   "outputs": [],
   "source": [
    "def check_dimension(A, B):\n",
    "    return A.shape[1] == B.shape[0]\n",
    "\n",
    "def mat_mul_standard(A, B):\n",
    "    if not check_dimension(A, B):\n",
    "        raise Exception('Dimensions aren\\'t consistant')\n",
    "        \n",
    "    m, n = A.shape\n",
    "    n, p = B.shape\n",
    "            \n",
    "    C = np.zeros((m, p))\n",
    "    ################type your code here#####################\n",
    "    C=  np.dot(A,B)\n",
    "    \n",
    "\n",
    "    ########################################################        \n",
    "    return C\n",
    "\n",
    "\n",
    "def mat_mul_columns(A, B):\n",
    "    if not check_dimension(A, B):\n",
    "        raise Exception('Dimensions aren\\'t consistant')\n",
    "        \n",
    "    m, n = A.shape\n",
    "    n, p = B.shape\n",
    "            \n",
    "    C = np.zeros((m, p))\n",
    "    ################type your code here#####################\n",
    "    for i in range(p):\n",
    "        C[:,i]=np.dot(A,B[:,i])\n",
    "\n",
    "    ########################################################         \n",
    "    return C\n",
    "\n",
    "def mat_mul_rows(A, B):\n",
    "    if not check_dimension(A, B):\n",
    "        raise Exception('Dimensions aren\\'t consistant')\n",
    "        \n",
    "    m, n = A.shape\n",
    "    n, p = B.shape\n",
    "            \n",
    "    C = np.zeros((m, p))\n",
    "    ################type your code here#####################\n",
    "    for i in range(m):\n",
    "        C[i,:]=np.dot(A[i,:],B)\n",
    "\n",
    "    ########################################################         \n",
    "    return C\n",
    "\n",
    "\n",
    "\n",
    "def mat_mul_column_times_row(A, B):\n",
    "    if not check_dimension(A, B):\n",
    "        raise Exception('Dimensions aren\\'t consistant')\n",
    "        \n",
    "    m, n = A.shape\n",
    "    n, p = B.shape\n",
    "            \n",
    "    C = np.zeros((m, p))\n",
    "    ################type your code here#####################\n",
    "    for i in range(p):\n",
    "        for j in range(m):\n",
    "            C[j,i]=np.dot(A[j,:],B[:,i])\n",
    "\n",
    "    ########################################################         \n",
    "    return C"
   ]
  },
  {
   "cell_type": "code",
   "execution_count": 20,
   "metadata": {},
   "outputs": [],
   "source": [
    "\n",
    "\n",
    "A = np.fix((10*(np.random.rand(300, 300))))\n",
    "B = np.fix((10*(np.random.rand(300, 300))))"
   ]
  },
  {
   "cell_type": "code",
   "execution_count": 21,
   "metadata": {},
   "outputs": [
    {
     "name": "stdout",
     "output_type": "stream",
     "text": [
      "A @ B = \n",
      " [[5799. 5873. 5658. ... 5684. 5842. 5506.]\n",
      " [6502. 6189. 6059. ... 6430. 6313. 6102.]\n",
      " [5899. 5845. 5866. ... 6014. 5828. 5749.]\n",
      " ...\n",
      " [5930. 5906. 5791. ... 5630. 5784. 5905.]\n",
      " [5937. 5785. 6013. ... 5898. 5942. 5690.]\n",
      " [5902. 5977. 6099. ... 5526. 5979. 5745.]]\n",
      "Wall time: 3.69 ms\n"
     ]
    }
   ],
   "source": [
    "%%time\n",
    "print('A @ B = \\n', A @ B)"
   ]
  },
  {
   "cell_type": "code",
   "execution_count": 22,
   "metadata": {},
   "outputs": [
    {
     "name": "stdout",
     "output_type": "stream",
     "text": [
      "C_standard = \n",
      " [[5799. 5873. 5658. ... 5684. 5842. 5506.]\n",
      " [6502. 6189. 6059. ... 6430. 6313. 6102.]\n",
      " [5899. 5845. 5866. ... 6014. 5828. 5749.]\n",
      " ...\n",
      " [5930. 5906. 5791. ... 5630. 5784. 5905.]\n",
      " [5937. 5785. 6013. ... 5898. 5942. 5690.]\n",
      " [5902. 5977. 6099. ... 5526. 5979. 5745.]]\n",
      "Wall time: 659 ms\n"
     ]
    }
   ],
   "source": [
    "%%time\n",
    "C_standard = mat_mul_standard(A, B)\n",
    "print('C_standard = \\n', C_standard)"
   ]
  },
  {
   "cell_type": "code",
   "execution_count": 23,
   "metadata": {},
   "outputs": [
    {
     "name": "stdout",
     "output_type": "stream",
     "text": [
      "C_columns = \n",
      " [[5799. 5873. 5658. ... 5684. 5842. 5506.]\n",
      " [6502. 6189. 6059. ... 6430. 6313. 6102.]\n",
      " [5899. 5845. 5866. ... 6014. 5828. 5749.]\n",
      " ...\n",
      " [5930. 5906. 5791. ... 5630. 5784. 5905.]\n",
      " [5937. 5785. 6013. ... 5898. 5942. 5690.]\n",
      " [5902. 5977. 6099. ... 5526. 5979. 5745.]]\n",
      "Wall time: 1.77 s\n"
     ]
    }
   ],
   "source": [
    "%%time\n",
    "C_columns = mat_mul_columns(A, B)\n",
    "print('C_columns = \\n', C_columns)"
   ]
  },
  {
   "cell_type": "code",
   "execution_count": 24,
   "metadata": {},
   "outputs": [
    {
     "name": "stdout",
     "output_type": "stream",
     "text": [
      "C_rows = \n",
      " [[5799. 5873. 5658. ... 5684. 5842. 5506.]\n",
      " [6502. 6189. 6059. ... 6430. 6313. 6102.]\n",
      " [5899. 5845. 5866. ... 6014. 5828. 5749.]\n",
      " ...\n",
      " [5930. 5906. 5791. ... 5630. 5784. 5905.]\n",
      " [5937. 5785. 6013. ... 5898. 5942. 5690.]\n",
      " [5902. 5977. 6099. ... 5526. 5979. 5745.]]\n",
      "Wall time: 1.91 s\n"
     ]
    }
   ],
   "source": [
    "%%time\n",
    "C_rows = mat_mul_rows(A, B)\n",
    "print('C_rows = \\n', C_rows)"
   ]
  },
  {
   "cell_type": "code",
   "execution_count": 25,
   "metadata": {},
   "outputs": [
    {
     "name": "stdout",
     "output_type": "stream",
     "text": [
      "C_column_times_row = \n",
      " [[5799. 5873. 5658. ... 5684. 5842. 5506.]\n",
      " [6502. 6189. 6059. ... 6430. 6313. 6102.]\n",
      " [5899. 5845. 5866. ... 6014. 5828. 5749.]\n",
      " ...\n",
      " [5930. 5906. 5791. ... 5630. 5784. 5905.]\n",
      " [5937. 5785. 6013. ... 5898. 5942. 5690.]\n",
      " [5902. 5977. 6099. ... 5526. 5979. 5745.]]\n",
      "Wall time: 80 ms\n"
     ]
    }
   ],
   "source": [
    "%%time\n",
    "C_column_times_row = mat_mul_column_times_row(A, B)\n",
    "print('C_column_times_row = \\n', C_column_times_row)"
   ]
  },
  {
   "cell_type": "markdown",
   "metadata": {},
   "source": [
    "#### My Code"
   ]
  },
  {
   "cell_type": "code",
   "execution_count": 188,
   "metadata": {},
   "outputs": [],
   "source": [
    "A = np.array([[12., 7., 3.],[4., 5., 6.],[7., 8., 9.]])\n",
    "B = np.array([[5., 8., 1., 2.],[6., 7., 3., 0.],[4., 5., 9., 1.]])"
   ]
  },
  {
   "cell_type": "code",
   "execution_count": 190,
   "metadata": {},
   "outputs": [
    {
     "name": "stdout",
     "output_type": "stream",
     "text": [
      "A @ B = \n",
      " [[114. 160.  60.  27.]\n",
      " [ 74.  97.  73.  14.]\n",
      " [119. 157. 112.  23.]]\n",
      "Wall time: 4.86 ms\n"
     ]
    }
   ],
   "source": [
    "%%time\n",
    "print('A @ B = \\n', A @ B)"
   ]
  },
  {
   "cell_type": "code",
   "execution_count": 191,
   "metadata": {},
   "outputs": [
    {
     "name": "stdout",
     "output_type": "stream",
     "text": [
      "C_standard = \n",
      " [[114. 160.  60.  27.]\n",
      " [ 74.  97.  73.  14.]\n",
      " [119. 157. 112.  23.]]\n",
      "Wall time: 956 µs\n"
     ]
    }
   ],
   "source": [
    "%%time\n",
    "C_standard = mat_mul_standard(A, B)\n",
    "print('C_standard = \\n', C_standard)"
   ]
  },
  {
   "cell_type": "code",
   "execution_count": 192,
   "metadata": {},
   "outputs": [
    {
     "name": "stdout",
     "output_type": "stream",
     "text": [
      "C_columns = \n",
      " [[114. 160.  60.  27.]\n",
      " [ 74.  97.  73.  14.]\n",
      " [119. 157. 112.  23.]]\n",
      "Wall time: 1.46 ms\n"
     ]
    }
   ],
   "source": [
    "%%time\n",
    "C_columns = mat_mul_columns(A, B)\n",
    "print('C_columns = \\n', C_columns)"
   ]
  },
  {
   "cell_type": "code",
   "execution_count": 193,
   "metadata": {},
   "outputs": [
    {
     "name": "stdout",
     "output_type": "stream",
     "text": [
      "C_rows = \n",
      " [[114. 160.  60.  27.]\n",
      " [ 74.  97.  73.  14.]\n",
      " [119. 157. 112.  23.]]\n",
      "Wall time: 885 µs\n"
     ]
    }
   ],
   "source": [
    "%%time\n",
    "C_rows = mat_mul_rows(A, B)\n",
    "print('C_rows = \\n', C_rows)"
   ]
  },
  {
   "cell_type": "code",
   "execution_count": 194,
   "metadata": {},
   "outputs": [
    {
     "name": "stdout",
     "output_type": "stream",
     "text": [
      "C_column_times_row = \n",
      " [[114. 160.  60.  27.]\n",
      " [ 74.  97.  73.  14.]\n",
      " [119. 157. 112.  23.]]\n",
      "Wall time: 0 ns\n"
     ]
    }
   ],
   "source": [
    "%%time\n",
    "C_column_times_row = mat_mul_column_times_row(A, B)\n",
    "print('C_column_times_row = \\n', C_column_times_row)"
   ]
  },
  {
   "cell_type": "code",
   "execution_count": null,
   "metadata": {},
   "outputs": [],
   "source": []
  }
 ],
 "metadata": {
  "kernelspec": {
   "display_name": "Python 3 (ipykernel)",
   "language": "python",
   "name": "python3"
  },
  "language_info": {
   "codemirror_mode": {
    "name": "ipython",
    "version": 3
   },
   "file_extension": ".py",
   "mimetype": "text/x-python",
   "name": "python",
   "nbconvert_exporter": "python",
   "pygments_lexer": "ipython3",
   "version": "3.9.13"
  }
 },
 "nbformat": 4,
 "nbformat_minor": 4
}
