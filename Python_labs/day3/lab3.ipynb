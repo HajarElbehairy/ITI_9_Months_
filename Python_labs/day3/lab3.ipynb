{
 "cells": [
  {
   "cell_type": "markdown",
   "id": "0b5c4956",
   "metadata": {},
   "source": [
    "Write a function that accepts two arguments (length, start) to\n",
    "generate an array of a specific length filled with integer numbers\n",
    "increased by one from start"
   ]
  },
  {
   "cell_type": "code",
   "execution_count": null,
   "id": "6c095498",
   "metadata": {},
   "outputs": [],
   "source": [
    "def increasing(length,start):\n",
    "    for i in range(start,length+start):\n",
    "        print(i)\n",
    "    \n",
    "\n",
    "increasing(3,8)"
   ]
  },
  {
   "cell_type": "markdown",
   "id": "d47fcbdd",
   "metadata": {},
   "source": [
    "write a function that takes a number as an argument and if the\n",
    "number divisible by 3 return \"Fizz\" and if it is divisible by 5 return\n",
    "\"buzz\" and if is is divisible by both return \"FizzBuzz\""
   ]
  },
  {
   "cell_type": "code",
   "execution_count": null,
   "id": "193595f5",
   "metadata": {},
   "outputs": [],
   "source": [
    "def joke(num):\n",
    "    if num%3==0 and num%5==0:\n",
    "        print(\"FizzBuzz\")\n",
    "    elif num%5==0:\n",
    "        print(\"buzz\")\n",
    "    elif num%3==0:\n",
    "        print(\"Fizz\")\n",
    "    else:\n",
    "        print(\"invalid.....\")\n",
    "joke(15)\n",
    "    "
   ]
  },
  {
   "cell_type": "markdown",
   "id": "0c031b8f",
   "metadata": {},
   "source": [
    "Write a function which has an input of a string from user then it\n",
    "will return the same string reversed."
   ]
  },
  {
   "cell_type": "code",
   "execution_count": null,
   "id": "292bc76b",
   "metadata": {},
   "outputs": [],
   "source": [
    "def reversing():\n",
    "    user_input=input(\"enter string:\")\n",
    "    reverse=user_input[::-1]\n",
    "    print(reverse)\n",
    "reversing()\n"
   ]
  },
  {
   "cell_type": "markdown",
   "id": "b8352f7e",
   "metadata": {},
   "source": [
    "Ask the user for his name then confirm that he has entered his\n",
    "name(not an empty string/integers). then proceed to ask him for\n",
    "his email and print all this data (Bonus) check if it is a valid email\n",
    "or not"
   ]
  },
  {
   "cell_type": "code",
   "execution_count": null,
   "id": "6e3f9acd",
   "metadata": {},
   "outputs": [],
   "source": [
    "def data():\n",
    "    user_input=input(\"enter your name : \")\n",
    "    if user_input.isdigit():\n",
    "        print(\"enter valid value...this is number!\")\n",
    "    elif user_input==\"\":\n",
    "        print(\"this is empty!\")\n",
    "    else:\n",
    "        user_input2=input(\"enter your mail:\")\n",
    "        print(user_input)\n",
    "        print(user_input2)\n",
    "data()\n",
    "\n",
    "\n"
   ]
  },
  {
   "cell_type": "markdown",
   "id": "ec6c29ae",
   "metadata": {},
   "source": [
    "Write a function that takes a string and prints the\n",
    "longest alphabetical ordered substring occurred For example, if\n",
    "the string is 'abdulrahman' then the output is: Longest substring in\n",
    "alphabetical order is: abdu"
   ]
  },
  {
   "cell_type": "code",
   "execution_count": null,
   "id": "fe0a231d",
   "metadata": {},
   "outputs": [],
   "source": [
    "user_input=input(\"enter str: \")\n",
    "current_str=\"\"\n",
    "max_str=\"\"\n",
    "for i in range(len(user_input)):\n",
    "    if user_input[i-1] <= user_input[i]:\n",
    "        current_str=current_str+user_input[i]\n",
    "        if len(current_str)>len(max_str):\n",
    "            max_str=current_str\n",
    "    else:\n",
    "        current_str = user_input[i]\n",
    "\n",
    "print(max_str)\n",
    "            \n",
    "        \n",
    "\n",
    "        "
   ]
  },
  {
   "cell_type": "markdown",
   "id": "a70e3957",
   "metadata": {},
   "source": [
    "Write a program which repeatedly reads numbers until the user\n",
    "enters “done”.\n",
    "○ Once “done” is entered, print out the total, count, and\n",
    "average of the numbers.\n",
    "○ If the user enters anything other than a number, detect their\n",
    "mistake, print an error message and skip to the next number."
   ]
  },
  {
   "cell_type": "code",
   "execution_count": null,
   "id": "3907530a",
   "metadata": {},
   "outputs": [],
   "source": [
    "def Done():\n",
    "    total=0\n",
    "    count=0\n",
    "    average=0\n",
    "\n",
    "    while True:\n",
    "        user_input=input(\"Enter any  number:\")\n",
    "        if user_input.isdigit():\n",
    "            user_input = int(user_input)\n",
    "            count=count+1\n",
    "            total=total+user_input\n",
    "        elif user_input==\"done\":\n",
    "            break\n",
    "        else:\n",
    "            print(\"enter valid number\")\n",
    "\n",
    "    average=total/count\n",
    "    print(count)\n",
    "    print(total)\n",
    "    print(average)        "
   ]
  },
  {
   "cell_type": "markdown",
   "id": "de2efd00",
   "metadata": {},
   "source": [
    "● Word guessing game (hangman)\n",
    "○ A list of words will be hardcoded in your program, out of\n",
    "which the interpreter will\n",
    "○ choose 1 random word.\n",
    "○ The user first must input their names\n",
    "○ Ask the user to guess any alphabet. If the random word\n",
    "contains that alphabet, it\n",
    "○ will be shown as the output(with correct placement)\n",
    "○ Else the program will ask you to guess another alphabet.\n",
    "○ Give 7 turns maximum to guess the complete word."
   ]
  },
  {
   "cell_type": "code",
   "execution_count": null,
   "id": "59f97868",
   "metadata": {},
   "outputs": [],
   "source": [
    "def hangman(set2):\n",
    "user_input=input(\"enter your name please:\")\n",
    "i=1\n",
    "j=0\n",
    "set1={\"hey\",\"hello\",\"goodmorning\",\"goodevening\",\"correct\",\"iti\"}\n",
    "poped_element=set1.pop()\n",
    "print(poped_element)\n",
    "print(len(poped_element))\n",
    "while i<=len(poped_element):\n",
    "    while j<=7:\n",
    "       user_input2=input(\"enter any alphabet:\")\n",
    "       if user_input2.isdigit():\n",
    "          print(\"enter valid value...this is number!\")\n",
    "       elif user_input2==\"\":\n",
    "          print(\"this is empty!\")\n",
    "       else:\n",
    "            if user_input2 in poped_element:\n",
    "                poped_element=poped_element.replace(user_input2,\"\") \n",
    "                print(poped_element)\n",
    "                print(\"you guess this right\")\n",
    "            else:\n",
    "                print(\"sorry this is wrong\")\n",
    "                print(f\"your turns is {j} ...this is only {7-j} for you\")\n",
    "                j=j+1\n",
    "       i=i+1\n",
    "       if poped_element==\"\":\n",
    "            print(\"COOOOOngratualationss\")\n",
    "            break\n",
    "set3={\"sun\",\"moon\",\"cloud\"}\n",
    "hangman(set3)"
   ]
  },
  {
   "cell_type": "code",
   "execution_count": 1,
   "id": "3b02b306",
   "metadata": {},
   "outputs": [
    {
     "name": "stdout",
     "output_type": "stream",
     "text": [
      "enter your name please:hajar\n",
      "correct\n",
      "7\n",
      "enter any alphabet:o\n",
      "crrect\n",
      "you guess this right\n",
      "enter any alphabet:r\n",
      "cect\n",
      "you guess this right\n",
      "enter any alphabet:h\n",
      "sorry this is wrong\n",
      "your turns is 0 ...this is only 7 for you\n",
      "enter any alphabet:o\n",
      "sorry this is wrong\n",
      "your turns is 1 ...this is only 6 for you\n",
      "enter any alphabet:e\n",
      "cct\n",
      "you guess this right\n",
      "enter any alphabet:c\n",
      "t\n",
      "you guess this right\n",
      "enter any alphabet:t\n",
      "\n",
      "you guess this right\n",
      "COOOOOngratualationss\n"
     ]
    }
   ],
   "source": [
    "user_input=input(\"enter your name please:\")\n",
    "i=1\n",
    "j=0\n",
    "set1={\"hey\",\"hello\",\"goodmorning\",\"goodevening\",\"correct\",\"iti\"}\n",
    "poped_element=set1.pop()\n",
    "print(poped_element)\n",
    "print(len(poped_element))\n",
    "while i<=len(poped_element):\n",
    "    while j<=7:\n",
    "       user_input2=input(\"enter any alphabet:\")\n",
    "       if user_input2.isdigit():\n",
    "          print(\"enter valid value...this is number!\")\n",
    "       elif user_input2==\"\":\n",
    "          print(\"this is empty!\")\n",
    "       else:\n",
    "            if user_input2 in poped_element:\n",
    "                poped_element=poped_element.replace(user_input2,\"\") \n",
    "                print(poped_element)\n",
    "                print(\"you guess this right\")\n",
    "            else:\n",
    "                print(\"sorry this is wrong\")\n",
    "                print(f\"your turns is {j} ...this is only {7-j} for you\")\n",
    "                j=j+1\n",
    "       i=i+1\n",
    "       if poped_element==\"\":\n",
    "            print(\"COOOOOngratualationss\")\n",
    "            break\n",
    "            \n",
    "                \n",
    "                \n",
    "      \n",
    "             \n"
   ]
  },
  {
   "cell_type": "code",
   "execution_count": null,
   "id": "a5825596",
   "metadata": {},
   "outputs": [],
   "source": []
  }
 ],
 "metadata": {
  "kernelspec": {
   "display_name": "Python 3 (ipykernel)",
   "language": "python",
   "name": "python3"
  },
  "language_info": {
   "codemirror_mode": {
    "name": "ipython",
    "version": 3
   },
   "file_extension": ".py",
   "mimetype": "text/x-python",
   "name": "python",
   "nbconvert_exporter": "python",
   "pygments_lexer": "ipython3",
   "version": "3.9.13"
  }
 },
 "nbformat": 4,
 "nbformat_minor": 5
}
