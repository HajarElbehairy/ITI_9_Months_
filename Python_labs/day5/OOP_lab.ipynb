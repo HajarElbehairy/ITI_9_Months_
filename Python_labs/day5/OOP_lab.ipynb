{
 "cells": [
  {
   "cell_type": "markdown",
   "id": "4725c262",
   "metadata": {},
   "source": [
    "## task 1"
   ]
  },
  {
   "cell_type": "code",
   "execution_count": 20,
   "id": "7ff55e4f",
   "metadata": {},
   "outputs": [
    {
     "name": "stdout",
     "output_type": "stream",
     "text": [
      "empty\n",
      "[10, 20, 30, 40, 50, 60]\n",
      "10\n",
      "20\n"
     ]
    }
   ],
   "source": [
    "class queue:\n",
    "    def __init__(self):\n",
    "        self.items=[]\n",
    "    def enqueue(self,item):\n",
    "        self.items.append(item)\n",
    "    def empty(self):\n",
    "        if len(self.items)==0:\n",
    "            print(\"empty\")\n",
    "    def dequeue(self):\n",
    "        if not self.empty():\n",
    "          return self.items.pop(0)\n",
    "        else:\n",
    "          print(\"this queue is already Empty\")\n",
    "          return None\n",
    "          \n",
    "lst=queue()\n",
    "lst.empty()\n",
    "lst.enqueue(10)\n",
    "lst.enqueue(20)\n",
    "lst.enqueue(30)\n",
    "lst.enqueue(40)\n",
    "lst.enqueue(50)\n",
    "lst.enqueue(60)\n",
    "print(lst.items)\n",
    "print(lst.dequeue())\n",
    "print(lst.dequeue())\n",
    "# print(lst.dequeue())\n",
    "# print(lst.dequeue())\n",
    "# print(lst.dequeue())\n",
    "# print(lst.dequeue())\n",
    "# print(lst.dequeue())\n",
    "# print(lst.dequeue())"
   ]
  },
  {
   "cell_type": "markdown",
   "id": "35b9a8dc",
   "metadata": {},
   "source": [
    "## task 2(A,B)"
   ]
  },
  {
   "cell_type": "code",
   "execution_count": 21,
   "id": "294257c6",
   "metadata": {},
   "outputs": [],
   "source": [
    "class childqueue(queue):\n",
    "    def __init__(self,name,size):\n",
    "        super().__init__()\n",
    "        self.name = name\n",
    "        self.size = size\n",
    "    def enqueu(self, items):\n",
    "        if len(self.items) >= self.size:\n",
    "            raise QueueOutOfRangeException(f\"Queue '{self.name}' is full. Max size: {self.size}\")\n",
    "\n",
    "        "
   ]
  },
  {
   "cell_type": "code",
   "execution_count": null,
   "id": "7b141ad0",
   "metadata": {},
   "outputs": [],
   "source": []
  }
 ],
 "metadata": {
  "kernelspec": {
   "display_name": "Python 3 (ipykernel)",
   "language": "python",
   "name": "python3"
  },
  "language_info": {
   "codemirror_mode": {
    "name": "ipython",
    "version": 3
   },
   "file_extension": ".py",
   "mimetype": "text/x-python",
   "name": "python",
   "nbconvert_exporter": "python",
   "pygments_lexer": "ipython3",
   "version": "3.9.13"
  }
 },
 "nbformat": 4,
 "nbformat_minor": 5
}
