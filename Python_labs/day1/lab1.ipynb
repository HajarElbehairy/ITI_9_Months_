{
 "cells": [
  {
   "cell_type": "markdown",
   "id": "da0a3b11",
   "metadata": {},
   "source": [
    "1- Write a program that takes a string input from the\n",
    "user and prints the string in reverse order. Hint use\n",
    "while loop and string concat. Don’t use str[::-1]"
   ]
  },
  {
   "cell_type": "code",
   "execution_count": null,
   "id": "0a5df1c9",
   "metadata": {},
   "outputs": [],
   "source": [
    "user_input=input(\"please enter a string:\")\n",
    "new_str=\"\"\n",
    "i=len(user_input)-1  #why \"-1\"\n",
    "while i>=0:\n",
    "    new_str+=user_input[i]\n",
    "    i=i-1\n",
    "\n",
    "print(new_str)\n",
    "    \n",
    "    "
   ]
  },
  {
   "cell_type": "markdown",
   "id": "f1a60ed6",
   "metadata": {},
   "source": [
    "2- Create a program that counts the number of vowels\n",
    "and consonants in a given string.\n",
    "Hint: vowels are ‘aeiou’ , Use the in operator and while\n",
    "loop"
   ]
  },
  {
   "cell_type": "code",
   "execution_count": null,
   "id": "ad9b223e",
   "metadata": {},
   "outputs": [],
   "source": [
    "user_input=input(\"please Enter any word:\")\n",
    "vowels=\"aeiouAEIOU\"\n",
    "#vowels = ['a', 'e', 'i', 'o', 'u']\n",
    "v_count=0\n",
    "c_count=0\n",
    "i=0\n",
    "str_len=len(user_input)-1\n",
    "while i <= str_len:\n",
    "    if user_input[i] in vowels:\n",
    "        v_count=v_count+1\n",
    "        i=i+1\n",
    "    else:\n",
    "        c_count=c_count+1\n",
    "        i=i+1\n",
    "print(v_count)\n",
    "print(c_count)\n",
    "        \n",
    "        "
   ]
  },
  {
   "cell_type": "markdown",
   "id": "65d07a85",
   "metadata": {},
   "source": [
    "3- Build a program that asks the user for a string\n",
    "and a number, then prints the string repeated that\n",
    "number of times [using while loop]."
   ]
  },
  {
   "cell_type": "code",
   "execution_count": null,
   "id": "7c6bc15f",
   "metadata": {},
   "outputs": [],
   "source": [
    "str_input=input(\"Enter any Word:\")\n",
    "int_input=int(input(\"Enter any Number:\"))\n",
    "i=0\n",
    "while i<= int_input:\n",
    "    print(str_input)\n",
    "    i=i+1"
   ]
  },
  {
   "cell_type": "markdown",
   "id": "f1ec3cd4",
   "metadata": {},
   "source": [
    "-Create a program that takes a string and\n",
    "capitalizes the first letter of each word. Using while\n",
    "loops and without using title"
   ]
  },
  {
   "cell_type": "code",
   "execution_count": null,
   "id": "0981749b",
   "metadata": {},
   "outputs": [],
   "source": [
    "user_input=input(\"Enter Any Sentence:\")\n",
    "str_len=len(user_input)-1\n",
    "new_str=\"\"\n",
    "\n",
    "new_str=new_str+user_input[0].upper()\n",
    "i=1\n",
    "while i <= str_len:\n",
    "#     new_str=new_str+user_input[0].upper()\n",
    "    if user_input[i-1]==\" \":\n",
    "        new_str=new_str+user_input[i].upper()\n",
    "    else:\n",
    "        new_str=new_str+user_input[i]\n",
    "    i=i+1\n",
    "print(new_str)"
   ]
  },
  {
   "cell_type": "markdown",
   "id": "8d094f1c",
   "metadata": {},
   "source": [
    "5- Write a program that prints only the even\n",
    "numbers from 0 to 120 using while loop."
   ]
  },
  {
   "cell_type": "code",
   "execution_count": null,
   "id": "c735c4a5",
   "metadata": {},
   "outputs": [],
   "source": [
    "i=0\n",
    "while i<= 120:\n",
    "    if i%2 == 0:\n",
    "        print(i)\n",
    "    i+=1"
   ]
  },
  {
   "cell_type": "markdown",
   "id": "790eb716",
   "metadata": {},
   "source": [
    "7- Use a while loop to find and print the sum of all\n",
    "even numbers up to a user-specified limit."
   ]
  },
  {
   "cell_type": "code",
   "execution_count": null,
   "id": "a463ac5f",
   "metadata": {},
   "outputs": [],
   "source": [
    "int_user=input(\"Enter any number: \")\n",
    "if int_user.isdigit():\n",
    "    user_input = int(user_input)\n",
    "else:\n",
    "    print(\"please enter number\")\n",
    "i=0\n",
    "even_sum=0\n",
    "while i <= int_user:\n",
    "    if i%2==0:\n",
    "        even_sum=even_sum+i\n",
    "    i=i+1\n",
    "print(even_sum)"
   ]
  },
  {
   "cell_type": "markdown",
   "id": "db3d8de8",
   "metadata": {},
   "source": [
    "8- Create a program that takes any positive integer\n",
    "n as input and prints the sequence according to the\n",
    "until n becomes 1.\n",
    "Hint given 5 → output 5, 4, 3,2,1\n",
    "Hint: print them in one string"
   ]
  },
  {
   "cell_type": "code",
   "execution_count": 3,
   "id": "51496a43",
   "metadata": {},
   "outputs": [
    {
     "name": "stdout",
     "output_type": "stream",
     "text": [
      "please enter any positive number:5\n",
      "5,4,3,2,1,\n"
     ]
    }
   ],
   "source": [
    "user_input=int(input(\"please enter any positive number:\"))\n",
    "i=1\n",
    "new_l=\"\"\n",
    "while user_input >=i:\n",
    "    new_l=new_l+str(user_input)+\n",
    "    user_input=user_input-1\n",
    "print(new_l)"
   ]
  },
  {
   "cell_type": "markdown",
   "id": "3a556a65",
   "metadata": {},
   "source": [
    "9- Create a program that asks for user input\n",
    "repeatedly until they enter a valid positive integer\n",
    "then print it."
   ]
  },
  {
   "cell_type": "code",
   "execution_count": null,
   "id": "c32e3e54",
   "metadata": {},
   "outputs": [],
   "source": [
    "while True:\n",
    "    num = int(input(\"Enter a positive integer: \"))\n",
    "    if num > 0:\n",
    "        print(f\"{num} is positive\")\n",
    "        break"
   ]
  },
  {
   "cell_type": "code",
   "execution_count": null,
   "id": "3ab1423c",
   "metadata": {},
   "outputs": [],
   "source": [
    "# user_input=int(input(\"please enter valid positive integer:\"))\n",
    "# input_type=type(user_input)\n",
    "# print(input_type)\n",
    "# if input_type!=int :\n",
    "#     print(\"Try again\")\n",
    "# elif user_input<0:\n",
    "#     print(\"Only Positive \")\n",
    "# else:\n",
    "#     print(user_input)\n",
    "user_input=input(\"please enter valid positive integer:\")\n",
    "if user_input.isdigit():\n",
    "    user_input = int(user_input)\n",
    "    if user_input > 0:\n",
    "        print(\"positive\")\n",
    "\n",
    "else:\n",
    "    print(\"please enter valid number\")"
   ]
  },
  {
   "cell_type": "markdown",
   "id": "1313182c",
   "metadata": {},
   "source": [
    "10- Write a program to calculate the factorial of a\n",
    "given number using a while loop.\n",
    "Given 5 —> output 120"
   ]
  },
  {
   "cell_type": "code",
   "execution_count": null,
   "id": "330deaf8",
   "metadata": {},
   "outputs": [],
   "source": [
    "user_input=input(\"Enter any number:\")\n",
    "if user_input.isdigit():\n",
    "    user_input = int(user_input)\n",
    "else:\n",
    "    print(\"enter valid number\")\n",
    "i=1\n",
    "fact=1\n",
    "while i<=user_input:\n",
    "    fact=fact*i\n",
    "    i=i+1\n",
    "print(fact)"
   ]
  },
  {
   "cell_type": "markdown",
   "id": "fecce17c",
   "metadata": {},
   "source": [
    "11- Use a while loop to reverse the digits of an\n",
    "integer provided by the user. For example, if the user\n",
    "enters 1234, the output should be 4321"
   ]
  },
  {
   "cell_type": "code",
   "execution_count": null,
   "id": "cf70b70d",
   "metadata": {},
   "outputs": [],
   "source": [
    "user_input=input(\"Enter valid number:\")\n",
    "if user_input.isdigit():\n",
    "    user_input = int(user_input)\n",
    "else:\n",
    "    print(\"enter valid number\")\n",
    "reverse_num=0\n",
    "while user_input>0:\n",
    "    a = user_input % 10\n",
    "#     print(a)\n",
    "    reverse_num = reverse_num * 10 + a \n",
    "#     print(reverse_num)\n",
    "    user_input = user_input // 10\n",
    "#     print(user_input)\n",
    "  \n",
    "print(reverse_num) \n",
    "    \n",
    "\n"
   ]
  },
  {
   "cell_type": "markdown",
   "id": "74e6d3e3",
   "metadata": {},
   "source": [
    "\n",
    "12- Write a program that keeps asking the user to\n",
    "enter a password until they enter the correct one print\n",
    "success. Use a while loop to keep prompting the\n",
    "user."
   ]
  },
  {
   "cell_type": "code",
   "execution_count": null,
   "id": "c2998bf6",
   "metadata": {},
   "outputs": [],
   "source": [
    "while True:\n",
    "    user_input=input(\"Enter valid number:\")\n",
    "    if user_input.isdigit():\n",
    "         user_input = int(user_input)\n",
    "    else:\n",
    "        print(\"enter valid number\")\n",
    "    password=992002\n",
    "        # while True:\n",
    "    if user_input==password:\n",
    "            print(\"success\")\n",
    "            break\n",
    "    \n"
   ]
  },
  {
   "cell_type": "markdown",
   "id": "c4b86ef0",
   "metadata": {},
   "source": [
    "13- Write a program that takes a number from the user\n",
    "and applies the Collatz Conjecture rules:\n",
    "● If the number is even, divide it by 2.\n",
    "● If the number is odd, multiply it by 3 and add 1.\n",
    "Continue until the number becomes 1"
   ]
  },
  {
   "cell_type": "code",
   "execution_count": null,
   "id": "09469b11",
   "metadata": {},
   "outputs": [],
   "source": [
    "user_input=input(\"Enter valid number:\")\n",
    "if user_input.isdigit():\n",
    "    user_input = int(user_input)\n",
    "else:\n",
    "    print(\"enter valid number\")\n",
    "while user_input>1:\n",
    "    if user_input%2==0:\n",
    "        user_input=user_input//2\n",
    "    else:\n",
    "        user_input=user_input*3+1\n",
    "    print(user_input)\n",
    "\n",
    "        \n",
    "        \n",
    "    "
   ]
  },
  {
   "cell_type": "code",
   "execution_count": null,
   "id": "7bd46e0c",
   "metadata": {},
   "outputs": [],
   "source": []
  }
 ],
 "metadata": {
  "kernelspec": {
   "display_name": "Python 3 (ipykernel)",
   "language": "python",
   "name": "python3"
  },
  "language_info": {
   "codemirror_mode": {
    "name": "ipython",
    "version": 3
   },
   "file_extension": ".py",
   "mimetype": "text/x-python",
   "name": "python",
   "nbconvert_exporter": "python",
   "pygments_lexer": "ipython3",
   "version": "3.9.13"
  }
 },
 "nbformat": 4,
 "nbformat_minor": 5
}
