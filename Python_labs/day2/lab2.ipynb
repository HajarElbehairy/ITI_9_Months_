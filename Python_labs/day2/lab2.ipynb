{
 "cells": [
  {
   "cell_type": "markdown",
   "id": "e9e321d3",
   "metadata": {},
   "source": [
    "Fill an array of 5 elements from the user, Sort it in descending\n",
    "and ascending orders then display the output.\n"
   ]
  },
  {
   "cell_type": "code",
   "execution_count": 61,
   "id": "8a901c9d",
   "metadata": {},
   "outputs": [
    {
     "name": "stdout",
     "output_type": "stream",
     "text": [
      "Enter a number: 1\n",
      "Enter a number: 2\n",
      "Enter a number: 3\n",
      "Enter a number: 4\n",
      "Enter a number: 5\n",
      "[1, 2, 3, 4, 5]\n",
      "[5, 4, 3, 2, 1]\n"
     ]
    }
   ],
   "source": [
    "numbers=[]\n",
    "for i in range(5): \n",
    "    num = int(input(\"Enter a number: \")) \n",
    "    numbers.append(num) \n",
    "numbers.sort()\n",
    "print(numbers)\n",
    "numbers.sort(reverse=True)\n",
    "print(numbers)\n",
    "\n",
    "\n"
   ]
  },
  {
   "cell_type": "markdown",
   "id": "da3f1a5f",
   "metadata": {},
   "source": [
    "Write a program that prints the number of times the string 'iti'\n",
    "occurs in anystring."
   ]
  },
  {
   "cell_type": "code",
   "execution_count": 62,
   "id": "580b0e56",
   "metadata": {},
   "outputs": [
    {
     "name": "stdout",
     "output_type": "stream",
     "text": [
      "enter any string:hiitithagar\n",
      "1\n"
     ]
    }
   ],
   "source": [
    "user_input=input(\"enter any string:\")\n",
    "print(user_input.count(\"iti\"))"
   ]
  },
  {
   "cell_type": "markdown",
   "id": "7c3a7e3e",
   "metadata": {},
   "source": [
    "● Write a program that remove all vowels from the input word and\n",
    "generate a brief version of it"
   ]
  },
  {
   "cell_type": "code",
   "execution_count": 63,
   "id": "7dda30cf",
   "metadata": {},
   "outputs": [
    {
     "name": "stdout",
     "output_type": "stream",
     "text": [
      "enter any string:hakjar\n",
      "['h', 'k', 'j', 'r']\n"
     ]
    }
   ],
   "source": [
    "user_input=input(\"enter any string:\")\n",
    "# l_input=list(user_input)\n",
    "new_str=[]\n",
    "vowels = ['a', 'e', 'i', 'o', 'u']\n",
    "for i in range(len(user_input)):\n",
    "    if user_input[i]not in vowels:\n",
    "         new_str.append(user_input[i])\n",
    "print(new_str)\n",
    "\n",
    "        "
   ]
  },
  {
   "cell_type": "markdown",
   "id": "b45e3b02",
   "metadata": {},
   "source": [
    "Write a program that prints the locations of \"i\" character in any\n",
    "string you added."
   ]
  },
  {
   "cell_type": "code",
   "execution_count": 64,
   "id": "7085dc58",
   "metadata": {},
   "outputs": [
    {
     "name": "stdout",
     "output_type": "stream",
     "text": [
      "enter any string:hellohi\n",
      "6\n"
     ]
    }
   ],
   "source": [
    "user_input=input(\"enter any string:\")\n",
    "l_input=[]\n",
    "for i in range(len(user_input)):\n",
    "    l_input.append(user_input[i])\n",
    "# print(l_input)\n",
    "print(l_input.index(\"i\"))"
   ]
  },
  {
   "cell_type": "markdown",
   "id": "a00f9d54",
   "metadata": {},
   "source": [
    "Write a program that generate a multiplication table from 1 to the\n",
    "number passed."
   ]
  },
  {
   "cell_type": "code",
   "execution_count": 65,
   "id": "58caf7a3",
   "metadata": {},
   "outputs": [
    {
     "name": "stdout",
     "output_type": "stream",
     "text": [
      "Enter any number:5\n",
      "[5, 10, 15, 20, 25]\n",
      "[[1], [2, 4], [3, 6, 9], [4, 8, 12, 16], [5, 10, 15, 20, 25]]\n"
     ]
    }
   ],
   "source": [
    "user_input=input(\"Enter any number:\")\n",
    "if user_input.isdigit():\n",
    "    user_input = int(user_input)\n",
    "else:\n",
    "    print(\"enter valid number\")\n",
    "l_parent=[]\n",
    "l_child=[]\n",
    "for i in range(1,user_input+1):\n",
    "#     print(\"i\",i)\n",
    "    l_child = [] \n",
    "    for j in range(1,i+1):\n",
    "#         print(\"j\",j)\n",
    "        l_child.append(i*j)\n",
    "    l_parent.append(l_child)\n",
    "print(l_child) \n",
    "print(l_parent)\n",
    "    \n",
    "    "
   ]
  },
  {
   "cell_type": "code",
   "execution_count": 66,
   "id": "bc63c8c5",
   "metadata": {},
   "outputs": [
    {
     "name": "stdout",
     "output_type": "stream",
     "text": [
      "Enter any number:5\n",
      "     *\n",
      "    **\n",
      "   ***\n",
      "  ****\n",
      " *****\n"
     ]
    }
   ],
   "source": [
    "user_input=input(\"Enter any number:\")\n",
    "if user_input.isdigit():\n",
    "    user_input = int(user_input)\n",
    "else:\n",
    "    print(\"enter valid number\")\n",
    "for i in range(1,user_input+1):\n",
    "    print((user_input-i)*\" \",i*\"*\")\n",
    "#     print(i*\"*\")"
   ]
  },
  {
   "cell_type": "code",
   "execution_count": null,
   "id": "db8928b9",
   "metadata": {},
   "outputs": [],
   "source": []
  }
 ],
 "metadata": {
  "kernelspec": {
   "display_name": "Python 3 (ipykernel)",
   "language": "python",
   "name": "python3"
  },
  "language_info": {
   "codemirror_mode": {
    "name": "ipython",
    "version": 3
   },
   "file_extension": ".py",
   "mimetype": "text/x-python",
   "name": "python",
   "nbconvert_exporter": "python",
   "pygments_lexer": "ipython3",
   "version": "3.9.13"
  }
 },
 "nbformat": 4,
 "nbformat_minor": 5
}
