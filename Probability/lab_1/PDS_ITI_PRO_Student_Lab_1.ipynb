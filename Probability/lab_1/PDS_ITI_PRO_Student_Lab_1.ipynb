{
 "cells": [
  {
   "cell_type": "markdown",
   "metadata": {},
   "source": [
    "# LAB 1: Probability Concepts, Indepdenece and Random Variables\n",
    "\n",
    "In this lab you will use python to study the following topics:\n",
    "\n",
    "- How to simulate random experiment outcomes using numpy arrays.\n",
    "- How to estimate the probability of an event using the relative frequency approach.\n",
    "- Simulate independent events.\n",
    "- Calculate arthemitic mean, sample variance, and sample standard deviation for a dataset.\n",
    "- Calculate covariance and correlation coeffecient of two random variables.\n"
   ]
  },
  {
   "cell_type": "markdown",
   "metadata": {},
   "source": [
    "# First: you should run this cell"
   ]
  },
  {
   "cell_type": "code",
   "execution_count": 2,
   "metadata": {},
   "outputs": [],
   "source": [
    "# Make all numpy available via shorter 'np' prefix\n",
    "import numpy as np\n",
    "\n",
    "# matplotlib library\n",
    "import matplotlib.pyplot as plt\n",
    "\n",
    "import pandas as pd"
   ]
  },
  {
   "cell_type": "markdown",
   "metadata": {},
   "source": [
    "# Problem 1\n",
    "\n",
    "Use numpy to simulate the vector outcomes for repeating the following random experiments $1000$ times and use the relative frequency to compute the probability of the corresponding events:\n",
    "    \n",
    "1. **Experiment:** Flipping a fair coin, **Event:** A head occurs.\n",
    "     \n",
    "Observe how changing the number of repetition affects the computed probabilities.\n",
    "\n",
    "**Hints:** \n",
    "- Use [numpy.random.randint](https://numpy.org/doc/stable/reference/random/generated/numpy.random.randint.html) or [numpy.random.choice](https://numpy.org/doc/stable/reference/random/generated/numpy.random.choice.html) to simulate the experiment.\n",
    "- Other useful functions [numpy.arange](https://numpy.org/doc/stable/reference/generated/numpy.arange.html), [numpy.cumsum](https://numpy.org/doc/stable/reference/generated/numpy.cumsum.html), [numpy.sum](https://numpy.org/doc/stable/reference/generated/numpy.sum.html), and [matplotlib.pyplot.plot](https://matplotlib.org/stable/api/_as_gen/matplotlib.pyplot.plot.html)"
   ]
  },
  {
   "cell_type": "code",
   "execution_count": 2,
   "metadata": {},
   "outputs": [
    {
     "name": "stdout",
     "output_type": "stream",
     "text": [
      "n = 10, P(e) = 0.6\n",
      "-----------------------------------------\n",
      "n = 50, P(e) = 0.48\n",
      "-----------------------------------------\n",
      "n = 100, P(e) = 0.52\n",
      "-----------------------------------------\n",
      "n = 500, P(e) = 0.498\n",
      "-----------------------------------------\n",
      "n = 1000, P(e) = 0.475\n",
      "-----------------------------------------\n",
      "n = 5000, P(e) = 0.4998\n",
      "-----------------------------------------\n",
      "n = 10000, P(e) = 0.5022\n",
      "-----------------------------------------\n",
      "n = 50000, P(e) = 0.5011\n",
      "-----------------------------------------\n",
      "n = 100000, P(e) = 0.49788\n",
      "-----------------------------------------\n"
     ]
    },
    {
     "data": {
      "text/plain": [
       "<matplotlib.lines.Line2D at 0x15b5ea184c0>"
      ]
     },
     "execution_count": 2,
     "metadata": {},
     "output_type": "execute_result"
    },
    {
     "data": {
      "image/png": "[encoded data removed]",
      "text/plain": [
       "<Figure size 432x288 with 1 Axes>"
      ]
     },
     "metadata": {
      "needs_background": "light"
     },
     "output_type": "display_data"
    }
   ],
   "source": [
    "#type your code here:\n"
   ]
  },
  {
   "cell_type": "code",
   "execution_count": 3,
   "metadata": {},
   "outputs": [
    {
     "name": "stdout",
     "output_type": "stream",
     "text": [
      "n= 10 p(e)= 0.3\n",
      "____________________________________________\n",
      "n= 50 p(e)= 0.54\n",
      "____________________________________________\n",
      "n= 100 p(e)= 0.44\n",
      "____________________________________________\n",
      "n= 500 p(e)= 0.482\n",
      "____________________________________________\n",
      "n= 1000 p(e)= 0.538\n",
      "____________________________________________\n",
      "n= 5000 p(e)= 0.501\n",
      "____________________________________________\n",
      "n= 10000 p(e)= 0.5003\n",
      "____________________________________________\n",
      "n= 50000 p(e)= 0.49778\n",
      "____________________________________________\n",
      "n= 100000 p(e)= 0.49817\n",
      "____________________________________________\n"
     ]
    },
    {
     "data": {
      "text/plain": [
       "[<matplotlib.lines.Line2D at 0x1758fd32a90>]"
      ]
     },
     "execution_count": 3,
     "metadata": {},
     "output_type": "execute_result"
    },
    {
     "data": {
      "image/png": "[encoded data removed]",
      "text/plain": [
       "<Figure size 640x480 with 1 Axes>"
      ]
     },
     "metadata": {},
     "output_type": "display_data"
    }
   ],
   "source": [
    "# my code\n",
    "numbers = [10, 50, 100, 500, 1000, 5000, 10000, 50000, 100000]\n",
    "for n in numbers:\n",
    "    event=np.random.choice([0,1],size=n)\n",
    "    p=event.sum()/len(event)\n",
    "    print(\"n=\",n,\"p(e)=\",p)\n",
    "    print(\"____________________________________________\")\n",
    "    trail=np.arange(1,n+1)\n",
    "    prop=np.cumsum(event)/trail\n",
    "plt.axhline(y=0.5,color=\"orange\",linestyle=\"--\")\n",
    "plt.plot(trail,prop,color=\"c\")\n"
   ]
  },
  {
   "cell_type": "markdown",
   "metadata": {},
   "source": [
    "2. **Experiment:** Rolling a fair die, **Event:** Number 5 occurs."
   ]
  },
  {
   "cell_type": "code",
   "execution_count": 3,
   "metadata": {},
   "outputs": [
    {
     "name": "stdout",
     "output_type": "stream",
     "text": [
      "n = 10, P(e) = 0.2\n",
      "-----------------------------------------\n",
      "n = 50, P(e) = 0.12\n",
      "-----------------------------------------\n",
      "n = 100, P(e) = 0.19\n",
      "-----------------------------------------\n",
      "n = 500, P(e) = 0.166\n",
      "-----------------------------------------\n",
      "n = 1000, P(e) = 0.151\n",
      "-----------------------------------------\n",
      "n = 5000, P(e) = 0.1648\n",
      "-----------------------------------------\n",
      "n = 10000, P(e) = 0.1663\n",
      "-----------------------------------------\n",
      "n = 50000, P(e) = 0.1661\n",
      "-----------------------------------------\n",
      "n = 100000, P(e) = 0.16817\n",
      "-----------------------------------------\n"
     ]
    },
    {
     "data": {
      "text/plain": [
       "<matplotlib.lines.Line2D at 0x15b5f1cf0d0>"
      ]
     },
     "execution_count": 3,
     "metadata": {},
     "output_type": "execute_result"
    },
    {
     "data": {
      "image/png": "[encoded data removed]",
      "text/plain": [
       "<Figure size 432x288 with 1 Axes>"
      ]
     },
     "metadata": {
      "needs_background": "light"
     },
     "output_type": "display_data"
    }
   ],
   "source": [
    "#type your code here:\n"
   ]
  },
  {
   "cell_type": "code",
   "execution_count": 35,
   "metadata": {},
   "outputs": [
    {
     "name": "stdout",
     "output_type": "stream",
     "text": [
      "n= 10 p(e)= 0.1\n",
      "____________________________________________\n",
      "n= 50 p(e)= 0.24\n",
      "____________________________________________\n",
      "n= 100 p(e)= 0.18\n",
      "____________________________________________\n",
      "n= 500 p(e)= 0.204\n",
      "____________________________________________\n",
      "n= 1000 p(e)= 0.154\n",
      "____________________________________________\n",
      "n= 5000 p(e)= 0.1654\n",
      "____________________________________________\n",
      "n= 10000 p(e)= 0.1663\n",
      "____________________________________________\n",
      "n= 50000 p(e)= 0.16522\n",
      "____________________________________________\n",
      "n= 100000 p(e)= 0.16604\n",
      "____________________________________________\n"
     ]
    },
    {
     "data": {
      "image/png": "[encoded data removed]",
      "text/plain": [
       "<Figure size 640x480 with 1 Axes>"
      ]
     },
     "metadata": {},
     "output_type": "display_data"
    }
   ],
   "source": [
    "# my code\n",
    "numbers = [10, 50, 100, 500, 1000, 5000, 10000, 50000, 100000]\n",
    "for n in numbers:\n",
    "    event=np.random.randint(1,7,size=n)\n",
    "    propbability = (event == 5).sum()\n",
    "    p=propbability / len(event)\n",
    "    print(\"n=\",n,\"p(e)=\",p)\n",
    "    print(\"____________________________________________\")\n",
    "    trail=np.arange(1,n+1)\n",
    "    prop=np.cumsum(event == 5)/trail\n",
    "    plt.axhline(y=0.16667,color=\"orange\")\n",
    "    plt.plot(trail,prop,color=\"c\")"
   ]
  },
  {
   "cell_type": "markdown",
   "metadata": {},
   "source": [
    "3. **Experiment:** Rolling a fair die, **Event:** A number greater than 3 occurs."
   ]
  },
  {
   "cell_type": "code",
   "execution_count": 4,
   "metadata": {},
   "outputs": [
    {
     "name": "stdout",
     "output_type": "stream",
     "text": [
      "n = 10, P(e) = 0.6\n",
      "-----------------------------------------\n",
      "n = 50, P(e) = 0.48\n",
      "-----------------------------------------\n",
      "n = 100, P(e) = 0.44\n",
      "-----------------------------------------\n",
      "n = 500, P(e) = 0.496\n",
      "-----------------------------------------\n",
      "n = 1000, P(e) = 0.489\n",
      "-----------------------------------------\n",
      "n = 5000, P(e) = 0.5052\n",
      "-----------------------------------------\n",
      "n = 10000, P(e) = 0.4962\n",
      "-----------------------------------------\n",
      "n = 50000, P(e) = 0.49842\n",
      "-----------------------------------------\n",
      "n = 100000, P(e) = 0.49983\n",
      "-----------------------------------------\n"
     ]
    },
    {
     "data": {
      "text/plain": [
       "<matplotlib.lines.Line2D at 0x15b5f24f070>"
      ]
     },
     "execution_count": 4,
     "metadata": {},
     "output_type": "execute_result"
    },
    {
     "data": {
      "image/png": "[encoded data removed]",
      "text/plain": [
       "<Figure size 432x288 with 1 Axes>"
      ]
     },
     "metadata": {
      "needs_background": "light"
     },
     "output_type": "display_data"
    }
   ],
   "source": [
    "#type your code here:\n"
   ]
  },
  {
   "cell_type": "code",
   "execution_count": 34,
   "metadata": {},
   "outputs": [
    {
     "name": "stdout",
     "output_type": "stream",
     "text": [
      "n= 10 p(e)= 0.4\n",
      "____________________________________________\n",
      "n= 50 p(e)= 0.4\n",
      "____________________________________________\n",
      "n= 100 p(e)= 0.47\n",
      "____________________________________________\n",
      "n= 500 p(e)= 0.5\n",
      "____________________________________________\n",
      "n= 1000 p(e)= 0.474\n",
      "____________________________________________\n",
      "n= 5000 p(e)= 0.5004\n",
      "____________________________________________\n",
      "n= 10000 p(e)= 0.4931\n",
      "____________________________________________\n",
      "n= 50000 p(e)= 0.50336\n",
      "____________________________________________\n",
      "n= 100000 p(e)= 0.50114\n",
      "____________________________________________\n"
     ]
    },
    {
     "data": {
      "image/png": "[encoded data removed]",
      "text/plain": [
       "<Figure size 640x480 with 1 Axes>"
      ]
     },
     "metadata": {},
     "output_type": "display_data"
    }
   ],
   "source": [
    "# my code\n",
    "numbers = [10, 50, 100, 500, 1000, 5000, 10000, 50000, 100000]\n",
    "for n in numbers:\n",
    "    event=np.random.randint(1,7,size=n)\n",
    "    propbability = (event > 3).sum()\n",
    "    p=propbability / len(event)\n",
    "    print(\"n=\",n,\"p(e)=\",p)\n",
    "    print(\"____________________________________________\")\n",
    "    trail=np.arange(1,n+1)\n",
    "    prop=np.cumsum(event > 3)/trail\n",
    "    plt.axhline(y=0.5,color=\"orange\")\n",
    "    plt.plot(trail,prop,color=\"c\")"
   ]
  },
  {
   "cell_type": "markdown",
   "metadata": {},
   "source": [
    "4. **Experiment:** Rolling two fair dice, **Event:** Sum of two dice equal 5."
   ]
  },
  {
   "cell_type": "code",
   "execution_count": 5,
   "metadata": {},
   "outputs": [
    {
     "name": "stdout",
     "output_type": "stream",
     "text": [
      "n = 10, P(e) = 0.1\n",
      "-----------------------------------------\n",
      "n = 50, P(e) = 0.04\n",
      "-----------------------------------------\n",
      "n = 100, P(e) = 0.11\n",
      "-----------------------------------------\n",
      "n = 500, P(e) = 0.116\n",
      "-----------------------------------------\n",
      "n = 1000, P(e) = 0.112\n",
      "-----------------------------------------\n",
      "n = 5000, P(e) = 0.1134\n",
      "-----------------------------------------\n",
      "n = 10000, P(e) = 0.1056\n",
      "-----------------------------------------\n",
      "n = 50000, P(e) = 0.10812\n",
      "-----------------------------------------\n",
      "n = 100000, P(e) = 0.10955\n",
      "-----------------------------------------\n"
     ]
    },
    {
     "data": {
      "text/plain": [
       "<matplotlib.lines.Line2D at 0x15b5f2b5ee0>"
      ]
     },
     "execution_count": 5,
     "metadata": {},
     "output_type": "execute_result"
    },
    {
     "data": {
      "image/png": "[encoded data removed]",
      "text/plain": [
       "<Figure size 432x288 with 1 Axes>"
      ]
     },
     "metadata": {
      "needs_background": "light"
     },
     "output_type": "display_data"
    }
   ],
   "source": [
    "#type your code here:\n"
   ]
  },
  {
   "cell_type": "code",
   "execution_count": 33,
   "metadata": {},
   "outputs": [
    {
     "name": "stdout",
     "output_type": "stream",
     "text": [
      "n= 10 p(e)= 0.1\n",
      "____________________________________________\n",
      "n= 50 p(e)= 0.1\n",
      "____________________________________________\n",
      "n= 100 p(e)= 0.11\n",
      "____________________________________________\n",
      "n= 500 p(e)= 0.112\n",
      "____________________________________________\n",
      "n= 1000 p(e)= 0.104\n",
      "____________________________________________\n",
      "n= 5000 p(e)= 0.11\n",
      "____________________________________________\n",
      "n= 10000 p(e)= 0.1065\n",
      "____________________________________________\n",
      "n= 50000 p(e)= 0.1107\n",
      "____________________________________________\n",
      "n= 100000 p(e)= 0.11312\n",
      "____________________________________________\n"
     ]
    },
    {
     "data": {
      "image/png": "[encoded data removed]",
      "text/plain": [
       "<Figure size 640x480 with 1 Axes>"
      ]
     },
     "metadata": {},
     "output_type": "display_data"
    }
   ],
   "source": [
    "# my code\n",
    "numbers = [10, 50, 100, 500, 1000, 5000, 10000, 50000, 100000]\n",
    "for n in numbers:\n",
    "    event_1=np.random.randint(1,7,size=n)\n",
    "    event_2=np.random.randint(1,7,size=n)\n",
    "    propbability = (event_1+event_2 == 5).sum()\n",
    "    p=propbability / len(event_1)\n",
    "    print(\"n=\",n,\"p(e)=\",p)\n",
    "    print(\"____________________________________________\")\n",
    "    trail=np.arange(1,n+1)\n",
    "    prop=np.cumsum(event_1+event_2 == 5)/trail\n",
    "    plt.axhline(y=0.116,color=\"orange\")\n",
    "    plt.plot(trail,prop,color=\"c\")"
   ]
  },
  {
   "cell_type": "markdown",
   "metadata": {},
   "source": [
    "# Problem 2\n",
    "\n",
    "Simulate the experiment of tossing $1000$ times a coin with probability of **head (coded as $1$) equal to $0.4$** and probability of **tail (coded as $0$) equal to $0.6$**. How can you check if the simulation of the experiment of been running as expected.\n",
    "\n",
    "**Hint**: Use [matplotlib.pyplot.hist¶\n",
    "](https://matplotlib.org/stable/api/_as_gen/matplotlib.pyplot.hist.html)"
   ]
  },
  {
   "cell_type": "code",
   "execution_count": 6,
   "metadata": {},
   "outputs": [
    {
     "data": {
      "image/png": "[encoded data removed]",
      "text/plain": [
       "<Figure size 432x288 with 1 Axes>"
      ]
     },
     "metadata": {
      "needs_background": "light"
     },
     "output_type": "display_data"
    }
   ],
   "source": [
    "#type your code here:\n"
   ]
  },
  {
   "cell_type": "code",
   "execution_count": 7,
   "metadata": {},
   "outputs": [
    {
     "data": {
      "text/plain": [
       "(array([595.,   0.,   0.,   0.,   0.,   0.,   0.,   0.,   0., 405.]),\n",
       " array([0. , 0.1, 0.2, 0.3, 0.4, 0.5, 0.6, 0.7, 0.8, 0.9, 1. ]),\n",
       " <BarContainer object of 10 artists>)"
      ]
     },
     "execution_count": 7,
     "metadata": {},
     "output_type": "execute_result"
    },
    {
     "data": {
      "image/png": "[encoded data removed]",
      "text/plain": [
       "<Figure size 640x480 with 1 Axes>"
      ]
     },
     "metadata": {},
     "output_type": "display_data"
    }
   ],
   "source": [
    "# my code\n",
    "event=np.random.choice([0,1],size=1000,p=[0.6,0.4])\n",
    "plt.hist(event)"
   ]
  },
  {
   "cell_type": "markdown",
   "metadata": {},
   "source": [
    "# Problem 3: Independence\n",
    "\n",
    "Use NumPy to create simulations and compute **empirical  probability** for the following outcomes. Compare the results with the **theoretical probability**.\n",
    "\n",
    "1. Two fair coin flips produce exactly two heads"
   ]
  },
  {
   "cell_type": "code",
   "execution_count": 7,
   "metadata": {},
   "outputs": [
    {
     "data": {
      "text/plain": [
       "0.249809"
      ]
     },
     "execution_count": 7,
     "metadata": {},
     "output_type": "execute_result"
    }
   ],
   "source": [
    "#type your code here:\n",
    "\n",
    "# simulate 1 million tests of two fair coin flips\n",
    "\n",
    "\n",
    "# sums of all tests\n",
    "\n",
    "\n",
    "# proportion of tests that produced exactly two heads\n"
   ]
  },
  {
   "cell_type": "code",
   "execution_count": 13,
   "metadata": {},
   "outputs": [
    {
     "name": "stdout",
     "output_type": "stream",
     "text": [
      "0.250099\n"
     ]
    }
   ],
   "source": [
    "# my code\n",
    "tests = np.random.randint(2, size=(1000000,2))\n",
    "two_heads = np.sum(tests, axis=1)\n",
    "print((two_heads == 2).mean())\n"
   ]
  },
  {
   "cell_type": "markdown",
   "metadata": {},
   "source": [
    "2. Three fair coin flips produce exactly one head"
   ]
  },
  {
   "cell_type": "code",
   "execution_count": 8,
   "metadata": {},
   "outputs": [
    {
     "data": {
      "text/plain": [
       "0.374819"
      ]
     },
     "execution_count": 8,
     "metadata": {},
     "output_type": "execute_result"
    }
   ],
   "source": [
    "#type your code here:\n",
    "\n",
    "# simulate 1 million tests of three fair coin flips\n",
    "\n",
    "\n",
    "# sums of all tests\n",
    "\n",
    "\n",
    "# proportion of tests that produced exactly one head\n"
   ]
  },
  {
   "cell_type": "code",
   "execution_count": 11,
   "metadata": {},
   "outputs": [
    {
     "name": "stdout",
     "output_type": "stream",
     "text": [
      "0.374343\n"
     ]
    }
   ],
   "source": [
    "# my code\n",
    "tests = np.random.randint(2, size=(1000000,3))\n",
    "three_heads = np.sum(tests, axis=1)\n",
    "print((three_heads == 1).mean())\n"
   ]
  },
  {
   "cell_type": "markdown",
   "metadata": {},
   "source": [
    "3. Three biased coin flips with P(H) = 0.6 produce exactly one head"
   ]
  },
  {
   "cell_type": "code",
   "execution_count": 9,
   "metadata": {},
   "outputs": [
    {
     "data": {
      "text/plain": [
       "0.288288"
      ]
     },
     "execution_count": 9,
     "metadata": {},
     "output_type": "execute_result"
    }
   ],
   "source": [
    "#type your code here:\n",
    "\n",
    "\n",
    "# simulate 1 million tests of three biased coin flips\n",
    "# hint: use np.random.choice()\n",
    "\n",
    "\n",
    "# sums of all tests\n",
    "\n",
    "\n",
    "# proportion of tests that produced exactly one head\n"
   ]
  },
  {
   "cell_type": "code",
   "execution_count": 16,
   "metadata": {},
   "outputs": [
    {
     "name": "stdout",
     "output_type": "stream",
     "text": [
      "0.288622\n"
     ]
    }
   ],
   "source": [
    "# my code\n",
    "event=np.random.choice([0,1],size=(1000000,3),p=[0.4,0.6])\n",
    "one_head = np.sum(event, axis=1)\n",
    "print((one_head == 1).mean())"
   ]
  },
  {
   "cell_type": "markdown",
   "metadata": {},
   "source": [
    "# Problem 4:Random Variables Statistical Tools\n",
    "Simulate Rolling a fair die $1000$ times. Then calculate the following:\n",
    "\n",
    "- Sample mean\n",
    "- Sample variance\n",
    "- Sample standard deviation\n",
    "\n",
    "Compare the results with the theoretical probability."
   ]
  },
  {
   "cell_type": "code",
   "execution_count": 10,
   "metadata": {},
   "outputs": [
    {
     "name": "stdout",
     "output_type": "stream",
     "text": [
      "Sample mean: 3.463\n",
      "Sample variance: 3.005636636636637\n",
      "Sample standard deviation: 1.7336772008181445\n",
      "3.463\n",
      "3.005636636636637\n",
      "1.7336772008181445\n"
     ]
    }
   ],
   "source": [
    "#type your code here:\n"
   ]
  },
  {
   "cell_type": "code",
   "execution_count": 26,
   "metadata": {},
   "outputs": [
    {
     "name": "stdout",
     "output_type": "stream",
     "text": [
      "Sample mean : 3.53\n",
      "Sample variance : 2.8851000000000004\n",
      "Sample standard 1.6985582121316891\n",
      "3.5\n",
      "2.9166666666666665\n",
      "1.4583333333333333\n"
     ]
    }
   ],
   "source": [
    "# my code\n",
    "event=np.random.randint(1,7,size=1000)\n",
    "print(\"Sample mean :\",event.mean())\n",
    "print(\"Sample variance :\",event.var())\n",
    "print(\"Sample standard\",event.std())\n",
    "print((1+2+3+4+5+6)/6)\n",
    "variance=0\n",
    "for i in range(1,7):\n",
    "    variance+=(i-3.5)**2\n",
    "print(variance/6)\n",
    "print((variance/6)*0.5)\n",
    "\n",
    "    "
   ]
  },
  {
   "cell_type": "markdown",
   "metadata": {},
   "source": [
    "# Problem 5: Correlation and Covariance\n",
    "\n",
    "The CSV file includes a hourly/daily summary for Szeged, Hungary area, between 2006 and 2016. After inspecting the data:\n",
    "\n",
    "- Calculate the covariance and correlation coeffecient between temperature and apparent temperature\n",
    "- Calculate the covariance and correlation coeffecient between temperature and humidity"
   ]
  },
  {
   "cell_type": "code",
   "execution_count": 27,
   "metadata": {},
   "outputs": [],
   "source": [
    "df = pd.read_csv('weatherHistory.csv')\n",
    "temperature = df['Temperature (C)'].to_numpy().reshape(-1, 1)\n",
    "apparant_temp = df['Apparent Temperature (C)'].to_numpy().reshape(-1, 1)\n",
    "humidity = df['Humidity'].to_numpy().reshape(-1, 1)"
   ]
  },
  {
   "cell_type": "code",
   "execution_count": 12,
   "metadata": {},
   "outputs": [
    {
     "data": {
      "text/plain": [
       "Text(0, 0.5, 'Apparent Temperature (C)')"
      ]
     },
     "execution_count": 12,
     "metadata": {},
     "output_type": "execute_result"
    },
    {
     "data": {
      "image/png": "[encoded data removed]",
      "text/plain": [
       "<Figure size 432x288 with 1 Axes>"
      ]
     },
     "metadata": {
      "needs_background": "light"
     },
     "output_type": "display_data"
    }
   ],
   "source": [
    "plt.scatter(temperature, apparant_temp)\n",
    "plt.grid()\n",
    "plt.xlabel('Temperature (C)')\n",
    "plt.ylabel('Apparent Temperature (C)')"
   ]
  },
  {
   "cell_type": "code",
   "execution_count": 13,
   "metadata": {},
   "outputs": [
    {
     "data": {
      "text/plain": [
       "Text(0, 0.5, 'Temperature (C)')"
      ]
     },
     "execution_count": 13,
     "metadata": {},
     "output_type": "execute_result"
    },
    {
     "data": {
      "image/png": "[encoded data removed]",
      "text/plain": [
       "<Figure size 432x288 with 1 Axes>"
      ]
     },
     "metadata": {
      "needs_background": "light"
     },
     "output_type": "display_data"
    }
   ],
   "source": [
    "plt.scatter(humidity, temperature)\n",
    "plt.grid()\n",
    "plt.xlabel('Humidity')\n",
    "plt.ylabel('Temperature (C)')"
   ]
  },
  {
   "cell_type": "markdown",
   "metadata": {},
   "source": [
    "## Temperature and Apparent Temperature"
   ]
  },
  {
   "cell_type": "code",
   "execution_count": 14,
   "metadata": {},
   "outputs": [
    {
     "name": "stdout",
     "output_type": "stream",
     "text": [
      "Covariance:  [[101.41828319]]\n",
      "---------------------------------------------------\n",
      "np.cov(): \n",
      " [[ 91.23203712 101.41828319]\n",
      " [101.41828319 114.42254413]]\n",
      "---------------------------------------------------\n",
      "Correlation Cof:  [[0.99262856]]\n",
      "---------------------------------------------------\n",
      "np.corrcoef(): \n",
      " [[1.         0.99262856]\n",
      " [0.99262856 1.        ]]\n"
     ]
    }
   ],
   "source": [
    "#type your code here:\n",
    "\n"
   ]
  },
  {
   "cell_type": "code",
   "execution_count": 36,
   "metadata": {},
   "outputs": [
    {
     "name": "stdout",
     "output_type": "stream",
     "text": [
      "np.cov():\n",
      " [[ 91.23203712 101.41828319]\n",
      " [101.41828319 114.42254413]]\n",
      "np.corrcoef():\n",
      " [[1.         0.99262856]\n",
      " [0.99262856 1.        ]]\n",
      "\n",
      "Specific Covariance: 101.41828318854094\n",
      "Specific Correlation Coefficient: 0.9926285641920811\n"
     ]
    }
   ],
   "source": [
    "# my code\n",
    "\n",
    "covarianc=np.cov(temperature.T,apparant_temp.T)\n",
    "print(\"np.cov():\\n\",covarianc)\n",
    "correlation=np.corrcoef(temperature.T,apparant_temp.T)\n",
    "print(\"np.corrcoef():\\n\",correlation)\n",
    "cov_value = covarianc[0, 1] \n",
    "corr_value = correlation[0, 1]  \n",
    "\n",
    "print(\"\\nSpecific Covariance:\", cov_value)\n",
    "print(\"Specific Correlation Coefficient:\", corr_value)"
   ]
  },
  {
   "cell_type": "markdown",
   "metadata": {},
   "source": [
    "## Temperature and Humidity"
   ]
  },
  {
   "cell_type": "code",
   "execution_count": 15,
   "metadata": {},
   "outputs": [
    {
     "name": "stdout",
     "output_type": "stream",
     "text": [
      "Covariance:  [[-1.18046179]]\n",
      "---------------------------------------------------\n",
      "np.cov(): \n",
      " [[ 9.12320371e+01 -1.18046179e+00]\n",
      " [-1.18046179e+00  3.82095917e-02]]\n",
      "---------------------------------------------------\n",
      "Correlation Cof:  [[-0.63225468]]\n",
      "---------------------------------------------------\n",
      "np.corrcoef(): \n",
      " [[ 1.         -0.63225468]\n",
      " [-0.63225468  1.        ]]\n"
     ]
    }
   ],
   "source": [
    "#type your code here:\n"
   ]
  },
  {
   "cell_type": "code",
   "execution_count": 37,
   "metadata": {},
   "outputs": [
    {
     "name": "stdout",
     "output_type": "stream",
     "text": [
      "np.cov():\n",
      " [[ 9.12320371e+01 -1.18046179e+00]\n",
      " [-1.18046179e+00  3.82095917e-02]]\n",
      "np.corrcoef():\n",
      " [[ 1.         -0.63225468]\n",
      " [-0.63225468  1.        ]]\n",
      "\n",
      "Specific Covariance: -1.1804617897851366\n",
      "Specific Correlation Coefficient: -0.6322546750264326\n"
     ]
    }
   ],
   "source": [
    "# my code\n",
    "covarianc=np.cov(temperature.T,humidity.T)\n",
    "print(\"np.cov():\\n\",covarianc)\n",
    "correlation=np.corrcoef(temperature.T,humidity.T)\n",
    "print(\"np.corrcoef():\\n\",correlation)\n",
    "cov_value = covarianc[0, 1] \n",
    "corr_value = correlation[0, 1]  \n",
    "\n",
    "print(\"\\nSpecific Covariance:\", cov_value)\n",
    "print(\"Specific Correlation Coefficient:\", corr_value)"
   ]
  },
  {
   "cell_type": "code",
   "execution_count": null,
   "metadata": {},
   "outputs": [],
   "source": []
  }
 ],
 "metadata": {
  "kernelspec": {
   "display_name": "Python 3",
   "language": "python",
   "name": "python3"
  },
  "language_info": {
   "codemirror_mode": {
    "name": "ipython",
    "version": 3
   },
   "file_extension": ".py",
   "mimetype": "text/x-python",
   "name": "python",
   "nbconvert_exporter": "python",
   "pygments_lexer": "ipython3",
   "version": "3.11.0"
  }
 },
 "nbformat": 4,
 "nbformat_minor": 4
}
